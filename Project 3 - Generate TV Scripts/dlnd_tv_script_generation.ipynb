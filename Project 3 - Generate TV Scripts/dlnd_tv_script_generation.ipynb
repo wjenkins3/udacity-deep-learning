{
 "cells": [
  {
   "cell_type": "markdown",
   "metadata": {
    "deletable": true,
    "editable": true
   },
   "source": [
    "# TV Script Generation\n",
    "In this project, you'll generate your own [Simpsons](https://en.wikipedia.org/wiki/The_Simpsons) TV scripts using RNNs.  You'll be using part of the [Simpsons dataset](https://www.kaggle.com/wcukierski/the-simpsons-by-the-data) of scripts from 27 seasons.  The Neural Network you'll build will generate a new TV script for a scene at [Moe's Tavern](https://simpsonswiki.com/wiki/Moe's_Tavern).\n",
    "## Get the Data\n",
    "The data is already provided for you.  You'll be using a subset of the original dataset.  It consists of only the scenes in Moe's Tavern.  This doesn't include other versions of the tavern, like \"Moe's Cavern\", \"Flaming Moe's\", \"Uncle Moe's Family Feed-Bag\", etc.."
   ]
  },
  {
   "cell_type": "code",
   "execution_count": 1,
   "metadata": {
    "collapsed": false,
    "deletable": true,
    "editable": true
   },
   "outputs": [],
   "source": [
    "\"\"\"\n",
    "DON'T MODIFY ANYTHING IN THIS CELL\n",
    "\"\"\"\n",
    "import helper\n",
    "\n",
    "data_dir = './data/simpsons/moes_tavern_lines.txt'\n",
    "text = helper.load_data(data_dir)\n",
    "# Ignore notice, since we don't use it for analysing the data\n",
    "text = text[81:]"
   ]
  },
  {
   "cell_type": "markdown",
   "metadata": {
    "deletable": true,
    "editable": true
   },
   "source": [
    "## Explore the Data\n",
    "Play around with `view_sentence_range` to view different parts of the data."
   ]
  },
  {
   "cell_type": "code",
   "execution_count": 2,
   "metadata": {
    "collapsed": false,
    "deletable": true,
    "editable": true
   },
   "outputs": [
    {
     "name": "stdout",
     "output_type": "stream",
     "text": [
      "Dataset Stats\n",
      "Roughly the number of unique words: 11492\n",
      "Number of scenes: 262\n",
      "Average number of sentences in each scene: 15.248091603053435\n",
      "Number of lines: 4257\n",
      "Average number of words in each line: 11.50434578341555\n",
      "\n",
      "The sentences 0 to 10:\n",
      "Moe_Szyslak: (INTO PHONE) Moe's Tavern. Where the elite meet to drink.\n",
      "Bart_Simpson: Eh, yeah, hello, is Mike there? Last name, Rotch.\n",
      "Moe_Szyslak: (INTO PHONE) Hold on, I'll check. (TO BARFLIES) Mike Rotch. Mike Rotch. Hey, has anybody seen Mike Rotch, lately?\n",
      "Moe_Szyslak: (INTO PHONE) Listen you little puke. One of these days I'm gonna catch you, and I'm gonna carve my name on your back with an ice pick.\n",
      "Moe_Szyslak: What's the matter Homer? You're not your normal effervescent self.\n",
      "Homer_Simpson: I got my problems, Moe. Give me another one.\n",
      "Moe_Szyslak: Homer, hey, you should not drink to forget your problems.\n",
      "Barney_Gumble: Yeah, you should only drink to enhance your social skills.\n",
      "\n",
      "\n"
     ]
    }
   ],
   "source": [
    "view_sentence_range = (0, 10)\n",
    "\n",
    "\"\"\"\n",
    "DON'T MODIFY ANYTHING IN THIS CELL\n",
    "\"\"\"\n",
    "import numpy as np\n",
    "\n",
    "print('Dataset Stats')\n",
    "print('Roughly the number of unique words: {}'.format(len({word: None for word in text.split()})))\n",
    "scenes = text.split('\\n\\n')\n",
    "print('Number of scenes: {}'.format(len(scenes)))\n",
    "sentence_count_scene = [scene.count('\\n') for scene in scenes]\n",
    "print('Average number of sentences in each scene: {}'.format(np.average(sentence_count_scene)))\n",
    "\n",
    "sentences = [sentence for scene in scenes for sentence in scene.split('\\n')]\n",
    "print('Number of lines: {}'.format(len(sentences)))\n",
    "word_count_sentence = [len(sentence.split()) for sentence in sentences]\n",
    "print('Average number of words in each line: {}'.format(np.average(word_count_sentence)))\n",
    "\n",
    "print()\n",
    "print('The sentences {} to {}:'.format(*view_sentence_range))\n",
    "print('\\n'.join(text.split('\\n')[view_sentence_range[0]:view_sentence_range[1]]))"
   ]
  },
  {
   "cell_type": "markdown",
   "metadata": {
    "deletable": true,
    "editable": true
   },
   "source": [
    "## Implement Preprocessing Functions\n",
    "The first thing to do to any dataset is preprocessing.  Implement the following preprocessing functions below:\n",
    "- Lookup Table\n",
    "- Tokenize Punctuation\n",
    "\n",
    "### Lookup Table\n",
    "To create a word embedding, you first need to transform the words to ids.  In this function, create two dictionaries:\n",
    "- Dictionary to go from the words to an id, we'll call `vocab_to_int`\n",
    "- Dictionary to go from the id to word, we'll call `int_to_vocab`\n",
    "\n",
    "Return these dictionaries in the following tuple `(vocab_to_int, int_to_vocab)`"
   ]
  },
  {
   "cell_type": "code",
   "execution_count": 3,
   "metadata": {
    "collapsed": false,
    "deletable": true,
    "editable": true
   },
   "outputs": [
    {
     "name": "stdout",
     "output_type": "stream",
     "text": [
      "Tests Passed\n"
     ]
    }
   ],
   "source": [
    "import numpy as np\n",
    "import problem_unittests as tests\n",
    "from collections import Counter\n",
    "\n",
    "def create_lookup_tables(text):\n",
    "    \"\"\"\n",
    "    Create lookup tables for vocabulary\n",
    "    :param text: The text of tv scripts split into words\n",
    "    :return: A tuple of dicts (vocab_to_int, int_to_vocab)\n",
    "    \"\"\"\n",
    "    vocab = Counter(text).most_common()\n",
    "    vocab_to_int = {}\n",
    "    for word,count in vocab:\n",
    "        vocab_to_int[word] = len(vocab_to_int)\n",
    "    int_to_vocab = dict(zip(vocab_to_int.values(), vocab_to_int.keys()))\n",
    "    return vocab_to_int, int_to_vocab\n",
    "\n",
    "\n",
    "\"\"\"\n",
    "DON'T MODIFY ANYTHING IN THIS CELL THAT IS BELOW THIS LINE\n",
    "\"\"\"\n",
    "tests.test_create_lookup_tables(create_lookup_tables)"
   ]
  },
  {
   "cell_type": "markdown",
   "metadata": {
    "deletable": true,
    "editable": true
   },
   "source": [
    "### Tokenize Punctuation\n",
    "We'll be splitting the script into a word array using spaces as delimiters.  However, punctuations like periods and exclamation marks make it hard for the neural network to distinguish between the word \"bye\" and \"bye!\".\n",
    "\n",
    "Implement the function `token_lookup` to return a dict that will be used to tokenize symbols like \"!\" into \"||Exclamation_Mark||\".  Create a dictionary for the following symbols where the symbol is the key and value is the token:\n",
    "- Period ( . )\n",
    "- Comma ( , )\n",
    "- Quotation Mark ( \" )\n",
    "- Semicolon ( ; )\n",
    "- Exclamation mark ( ! )\n",
    "- Question mark ( ? )\n",
    "- Left Parentheses ( ( )\n",
    "- Right Parentheses ( ) )\n",
    "- Dash ( -- )\n",
    "- Return ( \\n )\n",
    "\n",
    "This dictionary will be used to tokenize the symbols and add the delimiter (space) around it.  This separates the symbols as its own word, making it easier for the neural network to predict on the next word. Make sure you don't use a token that could be confused as a word. Instead of using the token \"dash\", try using something like \"||dash||\"."
   ]
  },
  {
   "cell_type": "code",
   "execution_count": 4,
   "metadata": {
    "collapsed": false,
    "deletable": true,
    "editable": true
   },
   "outputs": [
    {
     "name": "stdout",
     "output_type": "stream",
     "text": [
      "Tests Passed\n"
     ]
    }
   ],
   "source": [
    "def token_lookup():\n",
    "    \"\"\"\n",
    "    Generate a dict to turn punctuation into a token.\n",
    "    :return: Tokenize dictionary where the key is the punctuation and the value is the token\n",
    "    \"\"\"\n",
    "    token_dict = {}\n",
    "    token_dict['.'] = \"||Period||\"\n",
    "    token_dict[','] = \"||Comma||\"\n",
    "    token_dict['\"'] = \"||Quotation_mark||\"\n",
    "    token_dict[';'] = \"||Semicolon||\"\n",
    "    token_dict['!'] = \"||Exclamation_mark||\"\n",
    "    token_dict['?'] = \"||Question_mark||\"\n",
    "    token_dict['('] = \"||Left_Parentheses||\"\n",
    "    token_dict[')'] = \"||Right_Parentheses||\"\n",
    "    token_dict['--'] = \"||Dash||\"\n",
    "    token_dict['\\n'] = \"||RETURN||\"\n",
    "    return token_dict\n",
    "\n",
    "\"\"\"\n",
    "DON'T MODIFY ANYTHING IN THIS CELL THAT IS BELOW THIS LINE\n",
    "\"\"\"\n",
    "tests.test_tokenize(token_lookup)"
   ]
  },
  {
   "cell_type": "markdown",
   "metadata": {
    "deletable": true,
    "editable": true
   },
   "source": [
    "## Preprocess all the data and save it\n",
    "Running the code cell below will preprocess all the data and save it to file."
   ]
  },
  {
   "cell_type": "code",
   "execution_count": 5,
   "metadata": {
    "collapsed": false,
    "deletable": true,
    "editable": true
   },
   "outputs": [],
   "source": [
    "\"\"\"\n",
    "DON'T MODIFY ANYTHING IN THIS CELL\n",
    "\"\"\"\n",
    "# Preprocess Training, Validation, and Testing Data\n",
    "helper.preprocess_and_save_data(data_dir, token_lookup, create_lookup_tables)"
   ]
  },
  {
   "cell_type": "markdown",
   "metadata": {
    "deletable": true,
    "editable": true
   },
   "source": [
    "# Check Point\n",
    "This is your first checkpoint. If you ever decide to come back to this notebook or have to restart the notebook, you can start from here. The preprocessed data has been saved to disk."
   ]
  },
  {
   "cell_type": "code",
   "execution_count": 6,
   "metadata": {
    "collapsed": false,
    "deletable": true,
    "editable": true
   },
   "outputs": [],
   "source": [
    "\"\"\"\n",
    "DON'T MODIFY ANYTHING IN THIS CELL\n",
    "\"\"\"\n",
    "import helper\n",
    "import numpy as np\n",
    "import problem_unittests as tests\n",
    "\n",
    "int_text, vocab_to_int, int_to_vocab, token_dict = helper.load_preprocess()"
   ]
  },
  {
   "cell_type": "markdown",
   "metadata": {
    "deletable": true,
    "editable": true
   },
   "source": [
    "## Build the Neural Network\n",
    "You'll build the components necessary to build a RNN by implementing the following functions below:\n",
    "- get_inputs\n",
    "- get_init_cell\n",
    "- get_embed\n",
    "- build_rnn\n",
    "- build_nn\n",
    "- get_batches\n",
    "\n",
    "### Check the Version of TensorFlow and Access to GPU"
   ]
  },
  {
   "cell_type": "code",
   "execution_count": 7,
   "metadata": {
    "collapsed": false
   },
   "outputs": [
    {
     "name": "stdout",
     "output_type": "stream",
     "text": [
      "TensorFlow Version: 1.0.0\n",
      "Default GPU Device: /gpu:0\n"
     ]
    }
   ],
   "source": [
    "\"\"\"\n",
    "DON'T MODIFY ANYTHING IN THIS CELL\n",
    "\"\"\"\n",
    "from distutils.version import LooseVersion\n",
    "import warnings\n",
    "import tensorflow as tf\n",
    "\n",
    "# Check TensorFlow Version\n",
    "assert LooseVersion(tf.__version__) >= LooseVersion('1.0'), 'Please use TensorFlow version 1.0 or newer'\n",
    "print('TensorFlow Version: {}'.format(tf.__version__))\n",
    "\n",
    "# Check for a GPU\n",
    "if not tf.test.gpu_device_name():\n",
    "    warnings.warn('No GPU found. Please use a GPU to train your neural network.')\n",
    "else:\n",
    "    print('Default GPU Device: {}'.format(tf.test.gpu_device_name()))"
   ]
  },
  {
   "cell_type": "markdown",
   "metadata": {},
   "source": [
    "### Input\n",
    "Implement the `get_inputs()` function to create TF Placeholders for the Neural Network.  It should create the following placeholders:\n",
    "- Input text placeholder named \"input\" using the [TF Placeholder](https://www.tensorflow.org/api_docs/python/tf/placeholder) `name` parameter.\n",
    "- Targets placeholder\n",
    "- Learning Rate placeholder\n",
    "\n",
    "Return the placeholders in the following the tuple `(Input, Targets, LearingRate)`"
   ]
  },
  {
   "cell_type": "code",
   "execution_count": 8,
   "metadata": {
    "collapsed": false,
    "deletable": true,
    "editable": true
   },
   "outputs": [
    {
     "name": "stdout",
     "output_type": "stream",
     "text": [
      "Tests Passed\n"
     ]
    }
   ],
   "source": [
    "def get_inputs():\n",
    "    \"\"\"\n",
    "    Create TF Placeholders for input, targets, and learning rate.\n",
    "    :return: Tuple (input, targets, learning rate)\n",
    "    \"\"\"\n",
    "    input_ = tf.placeholder(tf.int32, shape=(None, None), name=\"input\")\n",
    "    targets_ = tf.placeholder(tf.int32, shape=(None, None))\n",
    "    lr_ = tf.placeholder(tf.float32)\n",
    "    return input_, targets_, lr_\n",
    "\n",
    "\n",
    "\"\"\"\n",
    "DON'T MODIFY ANYTHING IN THIS CELL THAT IS BELOW THIS LINE\n",
    "\"\"\"\n",
    "tests.test_get_inputs(get_inputs)"
   ]
  },
  {
   "cell_type": "markdown",
   "metadata": {
    "deletable": true,
    "editable": true
   },
   "source": [
    "### Build RNN Cell and Initialize\n",
    "Stack one or more [`BasicLSTMCells`](https://www.tensorflow.org/api_docs/python/tf/contrib/rnn/BasicLSTMCell) in a [`MultiRNNCell`](https://www.tensorflow.org/api_docs/python/tf/contrib/rnn/MultiRNNCell).\n",
    "- The Rnn size should be set using `rnn_size`\n",
    "- Initalize Cell State using the MultiRNNCell's [`zero_state()`](https://www.tensorflow.org/api_docs/python/tf/contrib/rnn/MultiRNNCell#zero_state) function\n",
    "    - Apply the name \"initial_state\" to the initial state using [`tf.identity()`](https://www.tensorflow.org/api_docs/python/tf/identity)\n",
    "\n",
    "Return the cell and initial state in the following tuple `(Cell, InitialState)`"
   ]
  },
  {
   "cell_type": "code",
   "execution_count": 9,
   "metadata": {
    "collapsed": false,
    "deletable": true,
    "editable": true
   },
   "outputs": [
    {
     "name": "stdout",
     "output_type": "stream",
     "text": [
      "Tests Passed\n"
     ]
    }
   ],
   "source": [
    "def get_init_cell(batch_size, rnn_size):\n",
    "    \"\"\"\n",
    "    Create an RNN Cell and initialize it.\n",
    "    :param batch_size: Size of batches\n",
    "    :param rnn_size: Size of RNNs\n",
    "    :return: Tuple (cell, initialize state)\n",
    "    \"\"\"\n",
    "    rnn = tf.contrib.rnn.BasicLSTMCell(rnn_size)\n",
    "    cell = tf.contrib.rnn.MultiRNNCell([rnn] * 2)\n",
    "    initial_state = tf.identity(cell.zero_state(batch_size, tf.float32), name='initial_state')\n",
    "    return cell, initial_state\n",
    "\n",
    "\n",
    "\"\"\"\n",
    "DON'T MODIFY ANYTHING IN THIS CELL THAT IS BELOW THIS LINE\n",
    "\"\"\"\n",
    "tests.test_get_init_cell(get_init_cell)"
   ]
  },
  {
   "cell_type": "markdown",
   "metadata": {
    "deletable": true,
    "editable": true
   },
   "source": [
    "### Word Embedding\n",
    "Apply embedding to `input_data` using TensorFlow.  Return the embedded sequence."
   ]
  },
  {
   "cell_type": "code",
   "execution_count": 10,
   "metadata": {
    "collapsed": false,
    "deletable": true,
    "editable": true
   },
   "outputs": [
    {
     "name": "stdout",
     "output_type": "stream",
     "text": [
      "Tests Passed\n"
     ]
    }
   ],
   "source": [
    "def get_embed(input_data, vocab_size, embed_dim):\n",
    "    \"\"\"\n",
    "    Create embedding for <input_data>.\n",
    "    :param input_data: TF placeholder for text input.\n",
    "    :param vocab_size: Number of words in vocabulary.\n",
    "    :param embed_dim: Number of embedding dimensions\n",
    "    :return: Embedded input.\n",
    "    \"\"\"\n",
    "    embedding = tf.Variable(tf.random_uniform([vocab_size, embed_dim], -1.0, 1.0))\n",
    "    embed = tf.nn.embedding_lookup(embedding, input_data)\n",
    "    return embed\n",
    "\n",
    "\n",
    "\"\"\"\n",
    "DON'T MODIFY ANYTHING IN THIS CELL THAT IS BELOW THIS LINE\n",
    "\"\"\"\n",
    "tests.test_get_embed(get_embed)"
   ]
  },
  {
   "cell_type": "markdown",
   "metadata": {
    "deletable": true,
    "editable": true
   },
   "source": [
    "### Build RNN\n",
    "You created a RNN Cell in the `get_init_cell()` function.  Time to use the cell to create a RNN.\n",
    "- Build the RNN using the [`tf.nn.dynamic_rnn()`](https://www.tensorflow.org/api_docs/python/tf/nn/dynamic_rnn)\n",
    " - Apply the name \"final_state\" to the final state using [`tf.identity()`](https://www.tensorflow.org/api_docs/python/tf/identity)\n",
    "\n",
    "Return the outputs and final_state state in the following tuple `(Outputs, FinalState)` "
   ]
  },
  {
   "cell_type": "code",
   "execution_count": 11,
   "metadata": {
    "collapsed": false,
    "deletable": true,
    "editable": true
   },
   "outputs": [
    {
     "name": "stdout",
     "output_type": "stream",
     "text": [
      "Tests Passed\n"
     ]
    }
   ],
   "source": [
    "def build_rnn(cell, inputs):\n",
    "    \"\"\"\n",
    "    Create a RNN using a RNN Cell\n",
    "    :param cell: RNN Cell\n",
    "    :param inputs: Input text data\n",
    "    :return: Tuple (Outputs, Final State)\n",
    "    \"\"\"\n",
    "    outputs, final_state = tf.nn.dynamic_rnn(cell, inputs, dtype=tf.float32)\n",
    "    final_state = tf.identity(final_state, name=\"final_state\")\n",
    "    return outputs, final_state\n",
    "\n",
    "\n",
    "\"\"\"\n",
    "DON'T MODIFY ANYTHING IN THIS CELL THAT IS BELOW THIS LINE\n",
    "\"\"\"\n",
    "tests.test_build_rnn(build_rnn)"
   ]
  },
  {
   "cell_type": "markdown",
   "metadata": {
    "deletable": true,
    "editable": true
   },
   "source": [
    "### Build the Neural Network\n",
    "Apply the functions you implemented above to:\n",
    "- Apply embedding to `input_data` using your `get_embed(input_data, vocab_size, embed_dim)` function.\n",
    "- Build RNN using `cell` and your `build_rnn(cell, inputs)` function.\n",
    "- Apply a fully connected layer with a linear activation and `vocab_size` as the number of outputs.\n",
    "\n",
    "Return the logits and final state in the following tuple (Logits, FinalState) "
   ]
  },
  {
   "cell_type": "code",
   "execution_count": 12,
   "metadata": {
    "collapsed": false,
    "deletable": true,
    "editable": true
   },
   "outputs": [
    {
     "name": "stdout",
     "output_type": "stream",
     "text": [
      "Tests Passed\n"
     ]
    }
   ],
   "source": [
    "def build_nn(cell, rnn_size, input_data, vocab_size):\n",
    "    \"\"\"\n",
    "    Build part of the neural network\n",
    "    :param cell: RNN cell\n",
    "    :param rnn_size: Size of rnns\n",
    "    :param input_data: Input data\n",
    "    :param vocab_size: Vocabulary size\n",
    "    :return: Tuple (Logits, FinalState)\n",
    "    \"\"\"\n",
    "    embeddings = get_embed(input_data, vocab_size, 300)\n",
    "    outputs, final_state = build_rnn(cell, embeddings)\n",
    "    logits = tf.layers.dense(outputs,\n",
    "                             vocab_size,\n",
    "                             kernel_initializer=tf.truncated_normal_initializer(stddev=np.sqrt(1/rnn_size)),\n",
    "                             use_bias=False)\n",
    "    \n",
    "    return logits, final_state\n",
    "\n",
    "\n",
    "\"\"\"\n",
    "DON'T MODIFY ANYTHING IN THIS CELL THAT IS BELOW THIS LINE\n",
    "\"\"\"\n",
    "tests.test_build_nn(build_nn)"
   ]
  },
  {
   "cell_type": "markdown",
   "metadata": {
    "deletable": true,
    "editable": true
   },
   "source": [
    "### Batches\n",
    "Implement `get_batches` to create batches of input and targets using `int_text`.  The batches should be a Numpy array with the shape `(number of batches, 2, batch size, sequence length)`. Each batch contains two elements:\n",
    "- The first element is a single batch of **input** with the shape `[batch size, sequence length]`\n",
    "- The second element is a single batch of **targets** with the shape `[batch size, sequence length]`\n",
    "\n",
    "If you can't fill the last batch with enough data, drop the last batch.\n",
    "\n",
    "For exmple, `get_batches([1, 2, 3, 4, 5, 6, 7, 8, 9, 10, 11, 12, 13, 14, 15], 2, 3)` would return a Numpy array of the following:\n",
    "```\n",
    "[\n",
    "  # First Batch\n",
    "  [\n",
    "    # Batch of Input\n",
    "    [[ 1  2  3], [ 7  8  9]],\n",
    "    # Batch of targets\n",
    "    [[ 2  3  4], [ 8  9 10]]\n",
    "  ],\n",
    " \n",
    "  # Second Batch\n",
    "  [\n",
    "    # Batch of Input\n",
    "    [[ 4  5  6], [10 11 12]],\n",
    "    # Batch of targets\n",
    "    [[ 5  6  7], [11 12 13]]\n",
    "  ]\n",
    "]\n",
    "```"
   ]
  },
  {
   "cell_type": "code",
   "execution_count": 13,
   "metadata": {
    "collapsed": false,
    "deletable": true,
    "editable": true
   },
   "outputs": [
    {
     "name": "stdout",
     "output_type": "stream",
     "text": [
      "Tests Passed\n"
     ]
    }
   ],
   "source": [
    "def get_batches(int_text, batch_size, seq_length):\n",
    "    \"\"\"\n",
    "    Return batches of input and target\n",
    "    :param int_text: Text with the words replaced by their ids\n",
    "    :param batch_size: The size of batch\n",
    "    :param seq_length: The length of sequence\n",
    "    :return: Batches as a Numpy array\n",
    "    \"\"\"\n",
    "    n_batches = int(len(int_text) / (batch_size * seq_length))\n",
    "\n",
    "    inputs = np.array(int_text[: n_batches * batch_size * seq_length])\n",
    "    labels = np.array(int_text[1: n_batches * batch_size * seq_length + 1])\n",
    "\n",
    "    input_batches = np.split(inputs.reshape(batch_size, -1), n_batches, 1)\n",
    "    label_batches = np.split(labels.reshape(batch_size, -1), n_batches, 1)\n",
    "    \n",
    "    return np.array(list(zip(input_batches,label_batches)))\n",
    "\n",
    "\n",
    "\"\"\"\n",
    "DON'T MODIFY ANYTHING IN THIS CELL THAT IS BELOW THIS LINE\n",
    "\"\"\"\n",
    "tests.test_get_batches(get_batches)"
   ]
  },
  {
   "cell_type": "markdown",
   "metadata": {
    "deletable": true,
    "editable": true
   },
   "source": [
    "## Neural Network Training\n",
    "### Hyperparameters\n",
    "Tune the following parameters:\n",
    "\n",
    "- Set `num_epochs` to the number of epochs.\n",
    "- Set `batch_size` to the batch size.\n",
    "- Set `rnn_size` to the size of the RNNs.\n",
    "- Set `seq_length` to the length of sequence.\n",
    "- Set `learning_rate` to the learning rate.\n",
    "- Set `show_every_n_batches` to the number of batches the neural network should print progress."
   ]
  },
  {
   "cell_type": "code",
   "execution_count": 14,
   "metadata": {
    "collapsed": true,
    "editable": true
   },
   "outputs": [],
   "source": [
    "# Number of Epochs\n",
    "num_epochs = 120\n",
    "# Batch Size\n",
    "batch_size = 100\n",
    "# RNN Size\n",
    "rnn_size = 300\n",
    "# Sequence Length\n",
    "seq_length = 20\n",
    "# Learning Rate\n",
    "learning_rate = 1e-3\n",
    "# Show stats for every n number of batches\n",
    "show_every_n_batches = 15\n",
    "\n",
    "\"\"\"\n",
    "DON'T MODIFY ANYTHING IN THIS CELL THAT IS BELOW THIS LINE\n",
    "\"\"\"\n",
    "save_dir = './save'"
   ]
  },
  {
   "cell_type": "markdown",
   "metadata": {
    "deletable": true,
    "editable": true
   },
   "source": [
    "### Build the Graph\n",
    "Build the graph using the neural network you implemented."
   ]
  },
  {
   "cell_type": "code",
   "execution_count": 15,
   "metadata": {
    "collapsed": false,
    "deletable": true,
    "editable": true
   },
   "outputs": [],
   "source": [
    "\"\"\"\n",
    "DON'T MODIFY ANYTHING IN THIS CELL\n",
    "\"\"\"\n",
    "from tensorflow.contrib import seq2seq\n",
    "\n",
    "train_graph = tf.Graph()\n",
    "with train_graph.as_default():\n",
    "    vocab_size = len(int_to_vocab)\n",
    "    input_text, targets, lr = get_inputs()\n",
    "    input_data_shape = tf.shape(input_text)\n",
    "    cell, initial_state = get_init_cell(input_data_shape[0], rnn_size)\n",
    "    logits, final_state = build_nn(cell, rnn_size, input_text, vocab_size)\n",
    "\n",
    "    # Probabilities for generating words\n",
    "    probs = tf.nn.softmax(logits, name='probs')\n",
    "\n",
    "    # Loss function\n",
    "    cost = seq2seq.sequence_loss(\n",
    "        logits,\n",
    "        targets,\n",
    "        tf.ones([input_data_shape[0], input_data_shape[1]]))\n",
    "\n",
    "    # Optimizer\n",
    "    optimizer = tf.train.AdamOptimizer(lr)\n",
    "\n",
    "    # Gradient Clipping\n",
    "    gradients = optimizer.compute_gradients(cost)\n",
    "    capped_gradients = [(tf.clip_by_value(grad, -1., 1.), var) for grad, var in gradients]\n",
    "    train_op = optimizer.apply_gradients(capped_gradients)"
   ]
  },
  {
   "cell_type": "markdown",
   "metadata": {
    "deletable": true,
    "editable": true
   },
   "source": [
    "## Train\n",
    "Train the neural network on the preprocessed data.  If you have a hard time getting a good loss, check the [forums](https://discussions.udacity.com/) to see if anyone is having the same problem."
   ]
  },
  {
   "cell_type": "code",
   "execution_count": 16,
   "metadata": {
    "collapsed": false,
    "deletable": true,
    "editable": true,
    "scrolled": false
   },
   "outputs": [
    {
     "name": "stdout",
     "output_type": "stream",
     "text": [
      "Epoch   0 Batch    0/34   train_loss = 8.822\n",
      "Epoch   0 Batch   15/34   train_loss = 6.485\n",
      "Epoch   0 Batch   30/34   train_loss = 6.319\n",
      "Epoch   1 Batch   11/34   train_loss = 6.052\n",
      "Epoch   1 Batch   26/34   train_loss = 6.066\n",
      "Epoch   2 Batch    7/34   train_loss = 5.988\n",
      "Epoch   2 Batch   22/34   train_loss = 5.915\n",
      "Epoch   3 Batch    3/34   train_loss = 5.872\n",
      "Epoch   3 Batch   18/34   train_loss = 5.730\n",
      "Epoch   3 Batch   33/34   train_loss = 5.625\n",
      "Epoch   4 Batch   14/34   train_loss = 5.704\n",
      "Epoch   4 Batch   29/34   train_loss = 5.442\n",
      "Epoch   5 Batch   10/34   train_loss = 5.467\n",
      "Epoch   5 Batch   25/34   train_loss = 5.356\n",
      "Epoch   6 Batch    6/34   train_loss = 5.257\n",
      "Epoch   6 Batch   21/34   train_loss = 5.326\n",
      "Epoch   7 Batch    2/34   train_loss = 5.235\n",
      "Epoch   7 Batch   17/34   train_loss = 5.222\n",
      "Epoch   7 Batch   32/34   train_loss = 5.118\n",
      "Epoch   8 Batch   13/34   train_loss = 5.173\n",
      "Epoch   8 Batch   28/34   train_loss = 5.039\n",
      "Epoch   9 Batch    9/34   train_loss = 4.932\n",
      "Epoch   9 Batch   24/34   train_loss = 4.829\n",
      "Epoch  10 Batch    5/34   train_loss = 4.882\n",
      "Epoch  10 Batch   20/34   train_loss = 4.835\n",
      "Epoch  11 Batch    1/34   train_loss = 4.748\n",
      "Epoch  11 Batch   16/34   train_loss = 4.978\n",
      "Epoch  11 Batch   31/34   train_loss = 4.562\n",
      "Epoch  12 Batch   12/34   train_loss = 4.651\n",
      "Epoch  12 Batch   27/34   train_loss = 4.642\n",
      "Epoch  13 Batch    8/34   train_loss = 4.508\n",
      "Epoch  13 Batch   23/34   train_loss = 4.567\n",
      "Epoch  14 Batch    4/34   train_loss = 4.497\n",
      "Epoch  14 Batch   19/34   train_loss = 4.598\n",
      "Epoch  15 Batch    0/34   train_loss = 4.483\n",
      "Epoch  15 Batch   15/34   train_loss = 4.664\n",
      "Epoch  15 Batch   30/34   train_loss = 4.446\n",
      "Epoch  16 Batch   11/34   train_loss = 4.536\n",
      "Epoch  16 Batch   26/34   train_loss = 4.416\n",
      "Epoch  17 Batch    7/34   train_loss = 4.398\n",
      "Epoch  17 Batch   22/34   train_loss = 4.412\n",
      "Epoch  18 Batch    3/34   train_loss = 4.386\n",
      "Epoch  18 Batch   18/34   train_loss = 4.302\n",
      "Epoch  18 Batch   33/34   train_loss = 4.247\n",
      "Epoch  19 Batch   14/34   train_loss = 4.342\n",
      "Epoch  19 Batch   29/34   train_loss = 4.172\n",
      "Epoch  20 Batch   10/34   train_loss = 4.252\n",
      "Epoch  20 Batch   25/34   train_loss = 4.157\n",
      "Epoch  21 Batch    6/34   train_loss = 4.064\n",
      "Epoch  21 Batch   21/34   train_loss = 4.269\n",
      "Epoch  22 Batch    2/34   train_loss = 4.207\n",
      "Epoch  22 Batch   17/34   train_loss = 4.178\n",
      "Epoch  22 Batch   32/34   train_loss = 4.145\n",
      "Epoch  23 Batch   13/34   train_loss = 4.183\n",
      "Epoch  23 Batch   28/34   train_loss = 4.092\n",
      "Epoch  24 Batch    9/34   train_loss = 4.018\n",
      "Epoch  24 Batch   24/34   train_loss = 3.963\n",
      "Epoch  25 Batch    5/34   train_loss = 4.046\n",
      "Epoch  25 Batch   20/34   train_loss = 3.964\n",
      "Epoch  26 Batch    1/34   train_loss = 3.944\n",
      "Epoch  26 Batch   16/34   train_loss = 4.130\n",
      "Epoch  26 Batch   31/34   train_loss = 3.829\n",
      "Epoch  27 Batch   12/34   train_loss = 3.886\n",
      "Epoch  27 Batch   27/34   train_loss = 3.932\n",
      "Epoch  28 Batch    8/34   train_loss = 3.841\n",
      "Epoch  28 Batch   23/34   train_loss = 3.862\n",
      "Epoch  29 Batch    4/34   train_loss = 3.790\n",
      "Epoch  29 Batch   19/34   train_loss = 3.849\n",
      "Epoch  30 Batch    0/34   train_loss = 3.749\n",
      "Epoch  30 Batch   15/34   train_loss = 3.875\n",
      "Epoch  30 Batch   30/34   train_loss = 3.760\n",
      "Epoch  31 Batch   11/34   train_loss = 3.815\n",
      "Epoch  31 Batch   26/34   train_loss = 3.720\n",
      "Epoch  32 Batch    7/34   train_loss = 3.726\n",
      "Epoch  32 Batch   22/34   train_loss = 3.692\n",
      "Epoch  33 Batch    3/34   train_loss = 3.696\n",
      "Epoch  33 Batch   18/34   train_loss = 3.633\n",
      "Epoch  33 Batch   33/34   train_loss = 3.605\n",
      "Epoch  34 Batch   14/34   train_loss = 3.673\n",
      "Epoch  34 Batch   29/34   train_loss = 3.541\n",
      "Epoch  35 Batch   10/34   train_loss = 3.624\n",
      "Epoch  35 Batch   25/34   train_loss = 3.530\n",
      "Epoch  36 Batch    6/34   train_loss = 3.434\n",
      "Epoch  36 Batch   21/34   train_loss = 3.553\n",
      "Epoch  37 Batch    2/34   train_loss = 3.511\n",
      "Epoch  37 Batch   17/34   train_loss = 3.500\n",
      "Epoch  37 Batch   32/34   train_loss = 3.485\n",
      "Epoch  38 Batch   13/34   train_loss = 3.541\n",
      "Epoch  38 Batch   28/34   train_loss = 3.445\n",
      "Epoch  39 Batch    9/34   train_loss = 3.375\n",
      "Epoch  39 Batch   24/34   train_loss = 3.331\n",
      "Epoch  40 Batch    5/34   train_loss = 3.405\n",
      "Epoch  40 Batch   20/34   train_loss = 3.333\n",
      "Epoch  41 Batch    1/34   train_loss = 3.320\n",
      "Epoch  41 Batch   16/34   train_loss = 3.427\n",
      "Epoch  41 Batch   31/34   train_loss = 3.205\n",
      "Epoch  42 Batch   12/34   train_loss = 3.246\n",
      "Epoch  42 Batch   27/34   train_loss = 3.233\n",
      "Epoch  43 Batch    8/34   train_loss = 3.271\n",
      "Epoch  43 Batch   23/34   train_loss = 3.234\n",
      "Epoch  44 Batch    4/34   train_loss = 3.171\n",
      "Epoch  44 Batch   19/34   train_loss = 3.194\n",
      "Epoch  45 Batch    0/34   train_loss = 3.115\n",
      "Epoch  45 Batch   15/34   train_loss = 3.225\n",
      "Epoch  45 Batch   30/34   train_loss = 3.154\n",
      "Epoch  46 Batch   11/34   train_loss = 3.159\n",
      "Epoch  46 Batch   26/34   train_loss = 3.125\n",
      "Epoch  47 Batch    7/34   train_loss = 3.135\n",
      "Epoch  47 Batch   22/34   train_loss = 3.095\n",
      "Epoch  48 Batch    3/34   train_loss = 3.060\n",
      "Epoch  48 Batch   18/34   train_loss = 3.049\n",
      "Epoch  48 Batch   33/34   train_loss = 2.965\n",
      "Epoch  49 Batch   14/34   train_loss = 2.982\n",
      "Epoch  49 Batch   29/34   train_loss = 2.991\n",
      "Epoch  50 Batch   10/34   train_loss = 3.010\n",
      "Epoch  50 Batch   25/34   train_loss = 2.961\n",
      "Epoch  51 Batch    6/34   train_loss = 2.877\n",
      "Epoch  51 Batch   21/34   train_loss = 2.916\n",
      "Epoch  52 Batch    2/34   train_loss = 2.923\n",
      "Epoch  52 Batch   17/34   train_loss = 2.940\n",
      "Epoch  52 Batch   32/34   train_loss = 2.920\n",
      "Epoch  53 Batch   13/34   train_loss = 2.931\n",
      "Epoch  53 Batch   28/34   train_loss = 2.866\n",
      "Epoch  54 Batch    9/34   train_loss = 2.800\n",
      "Epoch  54 Batch   24/34   train_loss = 2.794\n",
      "Epoch  55 Batch    5/34   train_loss = 2.834\n",
      "Epoch  55 Batch   20/34   train_loss = 2.770\n",
      "Epoch  56 Batch    1/34   train_loss = 2.806\n",
      "Epoch  56 Batch   16/34   train_loss = 2.841\n",
      "Epoch  56 Batch   31/34   train_loss = 2.662\n",
      "Epoch  57 Batch   12/34   train_loss = 2.753\n",
      "Epoch  57 Batch   27/34   train_loss = 2.741\n",
      "Epoch  58 Batch    8/34   train_loss = 2.802\n",
      "Epoch  58 Batch   23/34   train_loss = 2.746\n",
      "Epoch  59 Batch    4/34   train_loss = 2.623\n",
      "Epoch  59 Batch   19/34   train_loss = 2.588\n",
      "Epoch  60 Batch    0/34   train_loss = 2.559\n",
      "Epoch  60 Batch   15/34   train_loss = 2.588\n",
      "Epoch  60 Batch   30/34   train_loss = 2.556\n",
      "Epoch  61 Batch   11/34   train_loss = 2.544\n",
      "Epoch  61 Batch   26/34   train_loss = 2.524\n",
      "Epoch  62 Batch    7/34   train_loss = 2.517\n",
      "Epoch  62 Batch   22/34   train_loss = 2.497\n",
      "Epoch  63 Batch    3/34   train_loss = 2.442\n",
      "Epoch  63 Batch   18/34   train_loss = 2.427\n",
      "Epoch  63 Batch   33/34   train_loss = 2.331\n",
      "Epoch  64 Batch   14/34   train_loss = 2.347\n",
      "Epoch  64 Batch   29/34   train_loss = 2.363\n",
      "Epoch  65 Batch   10/34   train_loss = 2.441\n",
      "Epoch  65 Batch   25/34   train_loss = 2.390\n",
      "Epoch  66 Batch    6/34   train_loss = 2.279\n",
      "Epoch  66 Batch   21/34   train_loss = 2.257\n",
      "Epoch  67 Batch    2/34   train_loss = 2.322\n",
      "Epoch  67 Batch   17/34   train_loss = 2.278\n",
      "Epoch  67 Batch   32/34   train_loss = 2.326\n",
      "Epoch  68 Batch   13/34   train_loss = 2.300\n",
      "Epoch  68 Batch   28/34   train_loss = 2.236\n",
      "Epoch  69 Batch    9/34   train_loss = 2.179\n",
      "Epoch  69 Batch   24/34   train_loss = 2.225\n",
      "Epoch  70 Batch    5/34   train_loss = 2.193\n",
      "Epoch  70 Batch   20/34   train_loss = 2.208\n",
      "Epoch  71 Batch    1/34   train_loss = 2.169\n",
      "Epoch  71 Batch   16/34   train_loss = 2.109\n",
      "Epoch  71 Batch   31/34   train_loss = 2.078\n",
      "Epoch  72 Batch   12/34   train_loss = 2.038\n",
      "Epoch  72 Batch   27/34   train_loss = 2.074\n",
      "Epoch  73 Batch    8/34   train_loss = 2.204\n",
      "Epoch  73 Batch   23/34   train_loss = 2.113\n",
      "Epoch  74 Batch    4/34   train_loss = 2.036\n",
      "Epoch  74 Batch   19/34   train_loss = 2.031\n",
      "Epoch  75 Batch    0/34   train_loss = 2.006\n",
      "Epoch  75 Batch   15/34   train_loss = 2.032\n",
      "Epoch  75 Batch   30/34   train_loss = 2.027\n",
      "Epoch  76 Batch   11/34   train_loss = 2.009\n",
      "Epoch  76 Batch   26/34   train_loss = 1.999\n",
      "Epoch  77 Batch    7/34   train_loss = 1.981\n",
      "Epoch  77 Batch   22/34   train_loss = 2.100\n",
      "Epoch  78 Batch    3/34   train_loss = 1.963\n",
      "Epoch  78 Batch   18/34   train_loss = 1.936\n",
      "Epoch  78 Batch   33/34   train_loss = 1.941\n",
      "Epoch  79 Batch   14/34   train_loss = 1.839\n",
      "Epoch  79 Batch   29/34   train_loss = 1.960\n",
      "Epoch  80 Batch   10/34   train_loss = 2.001\n",
      "Epoch  80 Batch   25/34   train_loss = 1.944\n",
      "Epoch  81 Batch    6/34   train_loss = 1.819\n",
      "Epoch  81 Batch   21/34   train_loss = 1.826\n",
      "Epoch  82 Batch    2/34   train_loss = 1.843\n",
      "Epoch  82 Batch   17/34   train_loss = 1.784\n",
      "Epoch  82 Batch   32/34   train_loss = 1.834\n",
      "Epoch  83 Batch   13/34   train_loss = 1.763\n",
      "Epoch  83 Batch   28/34   train_loss = 1.745\n",
      "Epoch  84 Batch    9/34   train_loss = 1.677\n",
      "Epoch  84 Batch   24/34   train_loss = 1.765\n",
      "Epoch  85 Batch    5/34   train_loss = 1.696\n",
      "Epoch  85 Batch   20/34   train_loss = 1.704\n",
      "Epoch  86 Batch    1/34   train_loss = 1.671\n",
      "Epoch  86 Batch   16/34   train_loss = 1.593\n",
      "Epoch  86 Batch   31/34   train_loss = 1.675\n",
      "Epoch  87 Batch   12/34   train_loss = 1.555\n",
      "Epoch  87 Batch   27/34   train_loss = 1.629\n",
      "Epoch  88 Batch    8/34   train_loss = 1.744\n",
      "Epoch  88 Batch   23/34   train_loss = 1.674\n",
      "Epoch  89 Batch    4/34   train_loss = 1.584\n",
      "Epoch  89 Batch   19/34   train_loss = 1.552\n",
      "Epoch  90 Batch    0/34   train_loss = 1.572\n",
      "Epoch  90 Batch   15/34   train_loss = 1.498\n",
      "Epoch  90 Batch   30/34   train_loss = 1.602\n",
      "Epoch  91 Batch   11/34   train_loss = 1.551\n",
      "Epoch  91 Batch   26/34   train_loss = 1.498\n",
      "Epoch  92 Batch    7/34   train_loss = 1.493\n",
      "Epoch  92 Batch   22/34   train_loss = 1.578\n",
      "Epoch  93 Batch    3/34   train_loss = 1.574\n",
      "Epoch  93 Batch   18/34   train_loss = 1.435\n",
      "Epoch  93 Batch   33/34   train_loss = 1.452\n",
      "Epoch  94 Batch   14/34   train_loss = 1.382\n",
      "Epoch  94 Batch   29/34   train_loss = 1.420\n",
      "Epoch  95 Batch   10/34   train_loss = 1.531\n",
      "Epoch  95 Batch   25/34   train_loss = 1.518\n",
      "Epoch  96 Batch    6/34   train_loss = 1.386\n",
      "Epoch  96 Batch   21/34   train_loss = 1.361\n",
      "Epoch  97 Batch    2/34   train_loss = 1.393\n",
      "Epoch  97 Batch   17/34   train_loss = 1.341\n",
      "Epoch  97 Batch   32/34   train_loss = 1.361\n",
      "Epoch  98 Batch   13/34   train_loss = 1.320\n",
      "Epoch  98 Batch   28/34   train_loss = 1.270\n",
      "Epoch  99 Batch    9/34   train_loss = 1.271\n",
      "Epoch  99 Batch   24/34   train_loss = 1.313\n",
      "Epoch 100 Batch    5/34   train_loss = 1.260\n",
      "Epoch 100 Batch   20/34   train_loss = 1.256\n",
      "Epoch 101 Batch    1/34   train_loss = 1.221\n",
      "Epoch 101 Batch   16/34   train_loss = 1.137\n",
      "Epoch 101 Batch   31/34   train_loss = 1.253\n",
      "Epoch 102 Batch   12/34   train_loss = 1.167\n",
      "Epoch 102 Batch   27/34   train_loss = 1.187\n",
      "Epoch 103 Batch    8/34   train_loss = 1.299\n",
      "Epoch 103 Batch   23/34   train_loss = 1.208\n",
      "Epoch 104 Batch    4/34   train_loss = 1.168\n",
      "Epoch 104 Batch   19/34   train_loss = 1.173\n",
      "Epoch 105 Batch    0/34   train_loss = 1.128\n",
      "Epoch 105 Batch   15/34   train_loss = 1.136\n",
      "Epoch 105 Batch   30/34   train_loss = 1.157\n",
      "Epoch 106 Batch   11/34   train_loss = 1.121\n",
      "Epoch 106 Batch   26/34   train_loss = 1.116\n",
      "Epoch 107 Batch    7/34   train_loss = 1.068\n",
      "Epoch 107 Batch   22/34   train_loss = 1.187\n",
      "Epoch 108 Batch    3/34   train_loss = 1.146\n",
      "Epoch 108 Batch   18/34   train_loss = 1.061\n",
      "Epoch 108 Batch   33/34   train_loss = 1.011\n",
      "Epoch 109 Batch   14/34   train_loss = 0.957\n",
      "Epoch 109 Batch   29/34   train_loss = 1.006\n",
      "Epoch 110 Batch   10/34   train_loss = 1.052\n",
      "Epoch 110 Batch   25/34   train_loss = 1.028\n",
      "Epoch 111 Batch    6/34   train_loss = 0.964\n",
      "Epoch 111 Batch   21/34   train_loss = 0.954\n",
      "Epoch 112 Batch    2/34   train_loss = 0.938\n",
      "Epoch 112 Batch   17/34   train_loss = 0.953\n",
      "Epoch 112 Batch   32/34   train_loss = 0.972\n",
      "Epoch 113 Batch   13/34   train_loss = 0.931\n",
      "Epoch 113 Batch   28/34   train_loss = 0.907\n",
      "Epoch 114 Batch    9/34   train_loss = 0.933\n",
      "Epoch 114 Batch   24/34   train_loss = 0.980\n",
      "Epoch 115 Batch    5/34   train_loss = 0.967\n",
      "Epoch 115 Batch   20/34   train_loss = 0.953\n",
      "Epoch 116 Batch    1/34   train_loss = 0.895\n",
      "Epoch 116 Batch   16/34   train_loss = 0.874\n",
      "Epoch 116 Batch   31/34   train_loss = 0.989\n",
      "Epoch 117 Batch   12/34   train_loss = 0.892\n",
      "Epoch 117 Batch   27/34   train_loss = 0.919\n",
      "Epoch 118 Batch    8/34   train_loss = 1.018\n",
      "Epoch 118 Batch   23/34   train_loss = 0.924\n",
      "Epoch 119 Batch    4/34   train_loss = 0.822\n",
      "Epoch 119 Batch   19/34   train_loss = 0.927\n",
      "Model Trained and Saved\n"
     ]
    }
   ],
   "source": [
    "\"\"\"\n",
    "DON'T MODIFY ANYTHING IN THIS CELL\n",
    "\"\"\"\n",
    "batches = get_batches(int_text, batch_size, seq_length)\n",
    "\n",
    "with tf.Session(graph=train_graph) as sess:\n",
    "    sess.run(tf.global_variables_initializer())\n",
    "\n",
    "    for epoch_i in range(num_epochs):\n",
    "        state = sess.run(initial_state, {input_text: batches[0][0]})\n",
    "\n",
    "        for batch_i, (x, y) in enumerate(batches):\n",
    "            feed = {\n",
    "                input_text: x,\n",
    "                targets: y,\n",
    "                initial_state: state,\n",
    "                lr: learning_rate}\n",
    "            train_loss, state, _ = sess.run([cost, final_state, train_op], feed)\n",
    "\n",
    "            # Show every <show_every_n_batches> batches\n",
    "            if (epoch_i * len(batches) + batch_i) % show_every_n_batches == 0:\n",
    "                print('Epoch {:>3} Batch {:>4}/{}   train_loss = {:.3f}'.format(\n",
    "                    epoch_i,\n",
    "                    batch_i,\n",
    "                    len(batches),\n",
    "                    train_loss))\n",
    "\n",
    "    # Save Model\n",
    "    saver = tf.train.Saver()\n",
    "    saver.save(sess, save_dir)\n",
    "    print('Model Trained and Saved')"
   ]
  },
  {
   "cell_type": "markdown",
   "metadata": {
    "deletable": true,
    "editable": true
   },
   "source": [
    "## Save Parameters\n",
    "Save `seq_length` and `save_dir` for generating a new TV script."
   ]
  },
  {
   "cell_type": "code",
   "execution_count": 17,
   "metadata": {
    "collapsed": false,
    "deletable": true,
    "editable": true
   },
   "outputs": [],
   "source": [
    "\"\"\"\n",
    "DON'T MODIFY ANYTHING IN THIS CELL\n",
    "\"\"\"\n",
    "# Save parameters for checkpoint\n",
    "helper.save_params((seq_length, save_dir))"
   ]
  },
  {
   "cell_type": "markdown",
   "metadata": {
    "deletable": true,
    "editable": true
   },
   "source": [
    "# Checkpoint"
   ]
  },
  {
   "cell_type": "code",
   "execution_count": 18,
   "metadata": {
    "collapsed": false,
    "deletable": true,
    "editable": true
   },
   "outputs": [],
   "source": [
    "\"\"\"\n",
    "DON'T MODIFY ANYTHING IN THIS CELL\n",
    "\"\"\"\n",
    "import tensorflow as tf\n",
    "import numpy as np\n",
    "import helper\n",
    "import problem_unittests as tests\n",
    "\n",
    "_, vocab_to_int, int_to_vocab, token_dict = helper.load_preprocess()\n",
    "seq_length, load_dir = helper.load_params()"
   ]
  },
  {
   "cell_type": "markdown",
   "metadata": {
    "deletable": true,
    "editable": true
   },
   "source": [
    "## Implement Generate Functions\n",
    "### Get Tensors\n",
    "Get tensors from `loaded_graph` using the function [`get_tensor_by_name()`](https://www.tensorflow.org/api_docs/python/tf/Graph#get_tensor_by_name).  Get the tensors using the following names:\n",
    "- \"input:0\"\n",
    "- \"initial_state:0\"\n",
    "- \"final_state:0\"\n",
    "- \"probs:0\"\n",
    "\n",
    "Return the tensors in the following tuple `(InputTensor, InitialStateTensor, FinalStateTensor, ProbsTensor)` "
   ]
  },
  {
   "cell_type": "code",
   "execution_count": 19,
   "metadata": {
    "collapsed": false,
    "deletable": true,
    "editable": true
   },
   "outputs": [
    {
     "name": "stdout",
     "output_type": "stream",
     "text": [
      "Tests Passed\n"
     ]
    }
   ],
   "source": [
    "def get_tensors(loaded_graph):\n",
    "    \"\"\"\n",
    "    Get input, initial state, final state, and probabilities tensor from <loaded_graph>\n",
    "    :param loaded_graph: TensorFlow graph loaded from file\n",
    "    :return: Tuple (InputTensor, InitialStateTensor, FinalStateTensor, ProbsTensor)\n",
    "    \"\"\"\n",
    "    inputs = loaded_graph.get_tensor_by_name(\"input:0\")\n",
    "    initial_state = loaded_graph.get_tensor_by_name(\"initial_state:0\")\n",
    "    final_state = loaded_graph.get_tensor_by_name(\"final_state:0\")\n",
    "    probs = loaded_graph.get_tensor_by_name(\"probs:0\")\n",
    "    return inputs, initial_state, final_state, probs\n",
    "\n",
    "\n",
    "\"\"\"\n",
    "DON'T MODIFY ANYTHING IN THIS CELL THAT IS BELOW THIS LINE\n",
    "\"\"\"\n",
    "tests.test_get_tensors(get_tensors)"
   ]
  },
  {
   "cell_type": "markdown",
   "metadata": {
    "deletable": true,
    "editable": true
   },
   "source": [
    "### Choose Word\n",
    "Implement the `pick_word()` function to select the next word using `probabilities`."
   ]
  },
  {
   "cell_type": "code",
   "execution_count": 20,
   "metadata": {
    "collapsed": false,
    "deletable": true,
    "editable": true
   },
   "outputs": [
    {
     "name": "stdout",
     "output_type": "stream",
     "text": [
      "Tests Passed\n"
     ]
    }
   ],
   "source": [
    "def pick_word(probabilities, int_to_vocab):\n",
    "    \"\"\"\n",
    "    Pick the next word in the generated text\n",
    "    :param probabilities: Probabilites of the next word\n",
    "    :param int_to_vocab: Dictionary of word ids as the keys and words as the values\n",
    "    :return: String of the predicted word\n",
    "    \"\"\"\n",
    "    index = np.random.choice(len(probabilities), p=probabilities)\n",
    "    return int_to_vocab[index]\n",
    "\n",
    "\n",
    "\"\"\"\n",
    "DON'T MODIFY ANYTHING IN THIS CELL THAT IS BELOW THIS LINE\n",
    "\"\"\"\n",
    "tests.test_pick_word(pick_word)"
   ]
  },
  {
   "cell_type": "markdown",
   "metadata": {
    "deletable": true,
    "editable": true
   },
   "source": [
    "## Generate TV Script\n",
    "This will generate the TV script for you.  Set `gen_length` to the length of TV script you want to generate."
   ]
  },
  {
   "cell_type": "code",
   "execution_count": 21,
   "metadata": {
    "collapsed": false,
    "deletable": true,
    "editable": true,
    "scrolled": false
   },
   "outputs": [
    {
     "name": "stdout",
     "output_type": "stream",
     "text": [
      "moe_szyslak: maybe it's one of your life for your butt, when 'cause they are calling us to drink-- instead of danish incarcerated with boxing; local(alley) and ya the beer to compare the big plan and 'tis you little...(then sings) can't actually man!\n",
      "homer_simpson:(admitting) mmmmm, hello now he says friendly, right suits you're no longer--\n",
      "barney_gumble: what's the biggest decision the simpsons kids, heartless and i'm disappointing.\n",
      "barney_gumble: sorry about a drink. then you got homesick for dangerous) uh, sure. all the rest of a tavern you to bring us in my love. but here's the ol' barney did me off / he never leave better.\n",
      "narrator: i'm a song like about that time.\n",
      "homer_simpson:(scoffs) who has a little bit. nobody loves america... this is the brassiest name hey, handsome what am i put a night-- i'll just break up.\n",
      "moe_szyslak: ah, nein...\n",
      "comic_book_guy: ah, who are you doing?\n",
      "moe_szyslak: ah, those okay? what kind of day. you're on the tail\" lisa?\n",
      "comic_book_guy: or as the best time here...\"\n",
      "barney_gumble: i can't mr. that's all right.\n",
      "c. _montgomery_burns: letter? you'll buy a name and grammar.\n",
      "homer_simpson: oh, homer. the selling off, then they made in the bank.\" renee comes in the town.\n",
      "kent_brockman: a poor bar, love kinda day more other successful violations than i spent my loud links been a friend...\n",
      "barflies:(in tv) but not as safe dry. tabooger! couple box gets springfield.\n",
      "moe_szyslak: uh, no--(he has to homer another round on me. moe's tavern-- no. or is the best one while you're a big drinking of trouble.\n",
      "moe_szyslak: ah, homer. come jam your tongue. ivana as i let me made clean over the other place are christmas!\n",
      "homer_simpson:(smoothly) no, i'm something, moe. man, ya know. he's the matter of\n"
     ]
    }
   ],
   "source": [
    "gen_length = 400\n",
    "# homer_simpson, moe_szyslak, or Barney_Gumble\n",
    "prime_word = 'moe_szyslak'\n",
    "\n",
    "\"\"\"\n",
    "DON'T MODIFY ANYTHING IN THIS CELL THAT IS BELOW THIS LINE\n",
    "\"\"\"\n",
    "loaded_graph = tf.Graph()\n",
    "with tf.Session(graph=loaded_graph) as sess:\n",
    "    # Load saved model\n",
    "    loader = tf.train.import_meta_graph(load_dir + '.meta')\n",
    "    loader.restore(sess, load_dir)\n",
    "\n",
    "    # Get Tensors from loaded model\n",
    "    input_text, initial_state, final_state, probs = get_tensors(loaded_graph)\n",
    "\n",
    "    # Sentences generation setup\n",
    "    gen_sentences = [prime_word + ':']\n",
    "    prev_state = sess.run(initial_state, {input_text: np.array([[1]])})\n",
    "\n",
    "    # Generate sentences\n",
    "    for n in range(gen_length):\n",
    "        # Dynamic Input\n",
    "        dyn_input = [[vocab_to_int[word] for word in gen_sentences[-seq_length:]]]\n",
    "        dyn_seq_length = len(dyn_input[0])\n",
    "\n",
    "        # Get Prediction\n",
    "        probabilities, prev_state = sess.run(\n",
    "            [probs, final_state],\n",
    "            {input_text: dyn_input, initial_state: prev_state})\n",
    "        \n",
    "        pred_word = pick_word(probabilities[dyn_seq_length-1], int_to_vocab)\n",
    "\n",
    "        gen_sentences.append(pred_word)\n",
    "    \n",
    "    # Remove tokens\n",
    "    tv_script = ' '.join(gen_sentences)\n",
    "    for key, token in token_dict.items():\n",
    "        ending = ' ' if key in ['\\n', '(', '\"'] else ''\n",
    "        tv_script = tv_script.replace(' ' + token.lower(), key)\n",
    "    tv_script = tv_script.replace('\\n ', '\\n')\n",
    "    tv_script = tv_script.replace('( ', '(')\n",
    "        \n",
    "    print(tv_script)"
   ]
  },
  {
   "cell_type": "markdown",
   "metadata": {
    "deletable": true,
    "editable": true
   },
   "source": [
    "# The TV Script is Nonsensical\n",
    "It's ok if the TV script doesn't make any sense.  We trained on less than a megabyte of text.  In order to get good results, you'll have to use a smaller vocabulary or get more data.  Luckily there's more data!  As we mentioned in the beginning of this project, this is a subset of [another dataset](https://www.kaggle.com/wcukierski/the-simpsons-by-the-data).  We didn't have you train on all the data, because that would take too long.  However, you are free to train your neural network on all the data.  After you complete the project, of course.\n",
    "# Submitting This Project\n",
    "When submitting this project, make sure to run all the cells before saving the notebook. Save the notebook file as \"dlnd_tv_script_generation.ipynb\" and save it as a HTML file under \"File\" -> \"Download as\". Include the \"helper.py\" and \"problem_unittests.py\" files in your submission."
   ]
  }
 ],
 "metadata": {
  "anaconda-cloud": {},
  "kernelspec": {
   "display_name": "Python 3",
   "language": "python",
   "name": "python3"
  },
  "language_info": {
   "codemirror_mode": {
    "name": "ipython",
    "version": 3
   },
   "file_extension": ".py",
   "mimetype": "text/x-python",
   "name": "python",
   "nbconvert_exporter": "python",
   "pygments_lexer": "ipython3",
   "version": "3.5.2"
  }
 },
 "nbformat": 4,
 "nbformat_minor": 0
}
