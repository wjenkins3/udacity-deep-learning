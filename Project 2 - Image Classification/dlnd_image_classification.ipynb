{
 "cells": [
  {
   "cell_type": "markdown",
   "metadata": {
    "collapsed": true
   },
   "source": [
    "# Image Classification\n",
    "In this project, you'll classify images from the [CIFAR-10 dataset](https://www.cs.toronto.edu/~kriz/cifar.html).  The dataset consists of airplanes, dogs, cats, and other objects. You'll preprocess the images, then train a convolutional neural network on all the samples. The images need to be normalized and the labels need to be one-hot encoded.  You'll get to apply what you learned and build a convolutional, max pooling, dropout, and fully connected layers.  At the end, you'll get to see your neural network's predictions on the sample images.\n",
    "## Get the Data\n",
    "Run the following cell to download the [CIFAR-10 dataset for python](https://www.cs.toronto.edu/~kriz/cifar-10-python.tar.gz)."
   ]
  },
  {
   "cell_type": "code",
   "execution_count": 1,
   "metadata": {
    "collapsed": false
   },
   "outputs": [
    {
     "name": "stdout",
     "output_type": "stream",
     "text": [
      "All files found!\n"
     ]
    }
   ],
   "source": [
    "\"\"\"\n",
    "DON'T MODIFY ANYTHING IN THIS CELL THAT IS BELOW THIS LINE\n",
    "\"\"\"\n",
    "from urllib.request import urlretrieve\n",
    "from os.path import isfile, isdir\n",
    "from tqdm import tqdm\n",
    "import problem_unittests as tests\n",
    "import tarfile\n",
    "\n",
    "cifar10_dataset_folder_path = 'cifar-10-batches-py'\n",
    "\n",
    "class DLProgress(tqdm):\n",
    "    last_block = 0\n",
    "\n",
    "    def hook(self, block_num=1, block_size=1, total_size=None):\n",
    "        self.total = total_size\n",
    "        self.update((block_num - self.last_block) * block_size)\n",
    "        self.last_block = block_num\n",
    "\n",
    "if not isfile('cifar-10-python.tar.gz'):\n",
    "    with DLProgress(unit='B', unit_scale=True, miniters=1, desc='CIFAR-10 Dataset') as pbar:\n",
    "        urlretrieve(\n",
    "            'https://www.cs.toronto.edu/~kriz/cifar-10-python.tar.gz',\n",
    "            'cifar-10-python.tar.gz',\n",
    "            pbar.hook)\n",
    "\n",
    "if not isdir(cifar10_dataset_folder_path):\n",
    "    with tarfile.open('cifar-10-python.tar.gz') as tar:\n",
    "        tar.extractall()\n",
    "        tar.close()\n",
    "\n",
    "\n",
    "tests.test_folder_path(cifar10_dataset_folder_path)"
   ]
  },
  {
   "cell_type": "markdown",
   "metadata": {},
   "source": [
    "## Explore the Data\n",
    "The dataset is broken into batches to prevent your machine from running out of memory.  The CIFAR-10 dataset consists of 5 batches, named `data_batch_1`, `data_batch_2`, etc.. Each batch contains the labels and images that are one of the following:\n",
    "* airplane\n",
    "* automobile\n",
    "* bird\n",
    "* cat\n",
    "* deer\n",
    "* dog\n",
    "* frog\n",
    "* horse\n",
    "* ship\n",
    "* truck\n",
    "\n",
    "Understanding a dataset is part of making predictions on the data.  Play around with the code cell below by changing the `batch_id` and `sample_id`. The `batch_id` is the id for a batch (1-5). The `sample_id` is the id for a image and label pair in the batch.\n",
    "\n",
    "Ask yourself \"What are all possible labels?\", \"What is the range of values for the image data?\", \"Are the labels in order or random?\".  Answers to questions like these will help you preprocess the data and end up with better predictions."
   ]
  },
  {
   "cell_type": "code",
   "execution_count": 2,
   "metadata": {
    "collapsed": false
   },
   "outputs": [
    {
     "name": "stdout",
     "output_type": "stream",
     "text": [
      "\n",
      "Stats of batch 1:\n",
      "Samples: 10000\n",
      "Label Counts: {0: 1005, 1: 974, 2: 1032, 3: 1016, 4: 999, 5: 937, 6: 1030, 7: 1001, 8: 1025, 9: 981}\n",
      "First 20 Labels: [6, 9, 9, 4, 1, 1, 2, 7, 8, 3, 4, 7, 7, 2, 9, 9, 9, 3, 2, 6]\n",
      "\n",
      "Example of Image 5:\n",
      "Image - Min Value: 0 Max Value: 252\n",
      "Image - Shape: (32, 32, 3)\n",
      "Label - Label Id: 1 Name: automobile\n"
     ]
    },
    {
     "data": {
      "image/png": "[encoded data removed]",
      "text/plain": [
       "<matplotlib.figure.Figure at 0x7f82ca8c7da0>"
      ]
     },
     "metadata": {
      "image/png": {
       "height": 250,
       "width": 253
      }
     },
     "output_type": "display_data"
    }
   ],
   "source": [
    "%matplotlib inline\n",
    "%config InlineBackend.figure_format = 'retina'\n",
    "\n",
    "import helper\n",
    "import numpy as np\n",
    "\n",
    "# Explore the dataset\n",
    "batch_id = 1\n",
    "sample_id = 5\n",
    "helper.display_stats(cifar10_dataset_folder_path, batch_id, sample_id)"
   ]
  },
  {
   "cell_type": "markdown",
   "metadata": {},
   "source": [
    "## Implement Preprocess Functions\n",
    "### Normalize\n",
    "In the cell below, implement the `normalize` function to take in image data, `x`, and return it as a normalized Numpy array. The values should be in the range of 0 to 1, inclusive.  The return object should be the same shape as `x`."
   ]
  },
  {
   "cell_type": "code",
   "execution_count": 3,
   "metadata": {
    "collapsed": false
   },
   "outputs": [
    {
     "name": "stdout",
     "output_type": "stream",
     "text": [
      "Tests Passed\n"
     ]
    }
   ],
   "source": [
    "def normalize(x):\n",
    "    \"\"\"\n",
    "    Normalize a list of sample image data in the range of 0 to 1\n",
    "    : x: List of image data.  The image shape is (32, 32, 3)\n",
    "    : return: Numpy array of normalize data\n",
    "    \"\"\"\n",
    "    return x / 255\n",
    "\n",
    "\n",
    "\"\"\"\n",
    "DON'T MODIFY ANYTHING IN THIS CELL THAT IS BELOW THIS LINE\n",
    "\"\"\"\n",
    "tests.test_normalize(normalize)"
   ]
  },
  {
   "cell_type": "markdown",
   "metadata": {},
   "source": [
    "### One-hot encode\n",
    "Just like the previous code cell, you'll be implementing a function for preprocessing.  This time, you'll implement the `one_hot_encode` function. The input, `x`, are a list of labels.  Implement the function to return the list of labels as One-Hot encoded Numpy array.  The possible values for labels are 0 to 9. The one-hot encoding function should return the same encoding for each value between each call to `one_hot_encode`.  Make sure to save the map of encodings outside the function.\n",
    "\n",
    "Hint: Don't reinvent the wheel."
   ]
  },
  {
   "cell_type": "code",
   "execution_count": 4,
   "metadata": {
    "collapsed": false
   },
   "outputs": [
    {
     "name": "stdout",
     "output_type": "stream",
     "text": [
      "Tests Passed\n"
     ]
    }
   ],
   "source": [
    "def one_hot_encode(x):\n",
    "    \"\"\"\n",
    "    One hot encode a list of sample labels. Return a one-hot encoded vector for each label.\n",
    "    : x: List of sample Labels\n",
    "    : return: Numpy array of one-hot encoded labels\n",
    "    \"\"\"\n",
    "    sample_size = len(x)\n",
    "    index_offsets = np.arange(sample_size) * 10\n",
    "    one_hots = np.zeros((sample_size, 10), dtype=np.int8)\n",
    "    one_hots.flat[index_offsets + x] = 1\n",
    "    return one_hots\n",
    "\n",
    "\n",
    "\"\"\"\n",
    "DON'T MODIFY ANYTHING IN THIS CELL THAT IS BELOW THIS LINE\n",
    "\"\"\"\n",
    "tests.test_one_hot_encode(one_hot_encode)"
   ]
  },
  {
   "cell_type": "markdown",
   "metadata": {},
   "source": [
    "### Randomize Data\n",
    "As you saw from exploring the data above, the order of the samples are randomized.  It doesn't hurt to randomize it again, but you don't need to for this dataset."
   ]
  },
  {
   "cell_type": "markdown",
   "metadata": {},
   "source": [
    "## Preprocess all the data and save it\n",
    "Running the code cell below will preprocess all the CIFAR-10 data and save it to file. The code below also uses 10% of the training data for validation."
   ]
  },
  {
   "cell_type": "code",
   "execution_count": 5,
   "metadata": {
    "collapsed": false
   },
   "outputs": [],
   "source": [
    "\"\"\"\n",
    "DON'T MODIFY ANYTHING IN THIS CELL\n",
    "\"\"\"\n",
    "# Preprocess Training, Validation, and Testing Data\n",
    "helper.preprocess_and_save_data(cifar10_dataset_folder_path, normalize, one_hot_encode)"
   ]
  },
  {
   "cell_type": "markdown",
   "metadata": {},
   "source": [
    "# Check Point\n",
    "This is your first checkpoint.  If you ever decide to come back to this notebook or have to restart the notebook, you can start from here.  The preprocessed data has been saved to disk."
   ]
  },
  {
   "cell_type": "code",
   "execution_count": 6,
   "metadata": {
    "collapsed": true
   },
   "outputs": [],
   "source": [
    "\"\"\"\n",
    "DON'T MODIFY ANYTHING IN THIS CELL\n",
    "\"\"\"\n",
    "import pickle\n",
    "import problem_unittests as tests\n",
    "import helper\n",
    "\n",
    "# Load the Preprocessed Validation data\n",
    "valid_features, valid_labels = pickle.load(open('preprocess_validation.p', mode='rb'))"
   ]
  },
  {
   "cell_type": "markdown",
   "metadata": {},
   "source": [
    "## Build the network\n",
    "For the neural network, you'll build each layer into a function.  Most of the code you've seen has been outside of functions. To test your code more thoroughly, we require that you put each layer in a function.  This allows us to give you better feedback and test for simple mistakes using our unittests before you submit your project.\n",
    "\n",
    ">**Note:** If you're finding it hard to dedicate enough time for this course each week, we've provided a small shortcut to this part of the project. In the next couple of problems, you'll have the option to use classes from the [TensorFlow Layers](https://www.tensorflow.org/api_docs/python/tf/layers) or [TensorFlow Layers (contrib)](https://www.tensorflow.org/api_guides/python/contrib.layers) packages to build each layer, except the layers you build in the \"Convolutional and Max Pooling Layer\" section.  TF Layers is similar to Keras's and TFLearn's abstraction to layers, so it's easy to pickup.\n",
    "\n",
    ">However, if you would like to get the most out of this course, try to solve all the problems _without_ using anything from the TF Layers packages. You **can** still use classes from other packages that happen to have the same name as ones you find in TF Layers! For example, instead of using the TF Layers version of the `conv2d` class, [tf.layers.conv2d](https://www.tensorflow.org/api_docs/python/tf/layers/conv2d), you would want to use the TF Neural Network version of `conv2d`, [tf.nn.conv2d](https://www.tensorflow.org/api_docs/python/tf/nn/conv2d). \n",
    "\n",
    "Let's begin!\n",
    "\n",
    "### Input\n",
    "The neural network needs to read the image data, one-hot encoded labels, and dropout keep probability. Implement the following functions\n",
    "* Implement `neural_net_image_input`\n",
    " * Return a [TF Placeholder](https://www.tensorflow.org/api_docs/python/tf/placeholder)\n",
    " * Set the shape using `image_shape` with batch size set to `None`.\n",
    " * Name the TensorFlow placeholder \"x\" using the TensorFlow `name` parameter in the [TF Placeholder](https://www.tensorflow.org/api_docs/python/tf/placeholder).\n",
    "* Implement `neural_net_label_input`\n",
    " * Return a [TF Placeholder](https://www.tensorflow.org/api_docs/python/tf/placeholder)\n",
    " * Set the shape using `n_classes` with batch size set to `None`.\n",
    " * Name the TensorFlow placeholder \"y\" using the TensorFlow `name` parameter in the [TF Placeholder](https://www.tensorflow.org/api_docs/python/tf/placeholder).\n",
    "* Implement `neural_net_keep_prob_input`\n",
    " * Return a [TF Placeholder](https://www.tensorflow.org/api_docs/python/tf/placeholder) for dropout keep probability.\n",
    " * Name the TensorFlow placeholder \"keep_prob\" using the TensorFlow `name` parameter in the [TF Placeholder](https://www.tensorflow.org/api_docs/python/tf/placeholder).\n",
    "\n",
    "These names will be used at the end of the project to load your saved model.\n",
    "\n",
    "Note: `None` for shapes in TensorFlow allow for a dynamic size."
   ]
  },
  {
   "cell_type": "code",
   "execution_count": 7,
   "metadata": {
    "collapsed": false
   },
   "outputs": [
    {
     "name": "stdout",
     "output_type": "stream",
     "text": [
      "Image Input Tests Passed.\n",
      "Label Input Tests Passed.\n",
      "Keep Prob Tests Passed.\n"
     ]
    }
   ],
   "source": [
    "import tensorflow as tf\n",
    "\n",
    "def neural_net_image_input(image_shape):\n",
    "    \"\"\"\n",
    "    Return a Tensor for a batch of image input\n",
    "    : image_shape: Shape of the images\n",
    "    : return: Tensor for image input.\n",
    "    \"\"\"\n",
    "    # TODO: Implement Function\n",
    "    shape = [None]\n",
    "    shape.extend(list(image_shape))\n",
    "    return tf.placeholder(tf.float32, shape=shape, name=\"x\")\n",
    "\n",
    "\n",
    "def neural_net_label_input(n_classes):\n",
    "    \"\"\"\n",
    "    Return a Tensor for a batch of label input\n",
    "    : n_classes: Number of classes\n",
    "    : return: Tensor for label input.\n",
    "    \"\"\"\n",
    "    # TODO: Implement Function\n",
    "    return tf.placeholder(tf.int8, shape=[None, n_classes], name=\"y\")\n",
    "\n",
    "\n",
    "def neural_net_keep_prob_input():\n",
    "    \"\"\"\n",
    "    Return a Tensor for keep probability\n",
    "    : return: Tensor for keep probability.\n",
    "    \"\"\"\n",
    "    # TODO: Implement Function\n",
    "    return tf.placeholder(tf.float32, name=\"keep_prob\")\n",
    "\n",
    "\n",
    "\"\"\"\n",
    "DON'T MODIFY ANYTHING IN THIS CELL THAT IS BELOW THIS LINE\n",
    "\"\"\"\n",
    "tf.reset_default_graph()\n",
    "tests.test_nn_image_inputs(neural_net_image_input)\n",
    "tests.test_nn_label_inputs(neural_net_label_input)\n",
    "tests.test_nn_keep_prob_inputs(neural_net_keep_prob_input)"
   ]
  },
  {
   "cell_type": "markdown",
   "metadata": {},
   "source": [
    "### Convolution and Max Pooling Layer\n",
    "Convolution layers have a lot of success with images. For this code cell, you should implement the function `conv2d_maxpool` to apply convolution then max pooling:\n",
    "* Create the weight and bias using `conv_ksize`, `conv_num_outputs` and the shape of `x_tensor`.\n",
    "* Apply a convolution to `x_tensor` using weight and `conv_strides`.\n",
    " * We recommend you use same padding, but you're welcome to use any padding.\n",
    "* Add bias\n",
    "* Add a nonlinear activation to the convolution.\n",
    "* Apply Max Pooling using `pool_ksize` and `pool_strides`.\n",
    " * We recommend you use same padding, but you're welcome to use any padding.\n",
    "\n",
    "**Note:** You **can't** use [TensorFlow Layers](https://www.tensorflow.org/api_docs/python/tf/layers) or [TensorFlow Layers (contrib)](https://www.tensorflow.org/api_guides/python/contrib.layers) for **this** layer, but you can still use TensorFlow's [Neural Network](https://www.tensorflow.org/api_docs/python/tf/nn) package. You may still use the shortcut option for all the **other** layers."
   ]
  },
  {
   "cell_type": "code",
   "execution_count": 8,
   "metadata": {
    "collapsed": false
   },
   "outputs": [
    {
     "name": "stdout",
     "output_type": "stream",
     "text": [
      "Tests Passed\n"
     ]
    }
   ],
   "source": [
    "def conv2d_maxpool(x_tensor, conv_num_outputs, conv_ksize, conv_strides, pool_ksize, pool_strides):\n",
    "    \"\"\"\n",
    "    Apply convolution then max pooling to x_tensor\n",
    "    :param x_tensor: TensorFlow Tensor\n",
    "    :param conv_num_outputs: Number of outputs for the convolutional layer\n",
    "    :param conv_ksize: kernal size 2-D Tuple for the convolutional layer\n",
    "    :param conv_strides: Stride 2-D Tuple for convolution\n",
    "    :param pool_ksize: kernal size 2-D Tuple for pool\n",
    "    :param pool_strides: Stride 2-D Tuple for pool\n",
    "    : return: A tensor that represents convolution and max pooling of x_tensor\n",
    "    \"\"\"\n",
    "    # TODO: Implement Function\n",
    "    num_inputs = x_tensor.get_shape()[3].value\n",
    "    n_out = conv_num_outputs * conv_ksize[0] * conv_ksize[1] / (pool_ksize[0] * pool_ksize[1])\n",
    "    W = tf.Variable(tf.truncated_normal([conv_ksize[0], conv_ksize[1], num_inputs, conv_num_outputs], stddev=np.sqrt(1/n_out)))\n",
    "    b = tf.Variable(tf.truncated_normal([conv_num_outputs]))\n",
    "    \n",
    "    stride = [1, conv_strides[0], conv_strides[1], 1]\n",
    "    conv = tf.nn.conv2d(x_tensor, W, strides=stride, padding='SAME')\n",
    "    a = tf.nn.relu(tf.add(conv, b))\n",
    "    \n",
    "    pool_ksize = [1, pool_ksize[0], pool_ksize[1], 1]\n",
    "    stride = [1, pool_strides[0], pool_strides[1], 1]\n",
    "    pool = tf.nn.max_pool(a, ksize=pool_ksize ,strides=stride,padding='SAME')\n",
    "    \n",
    "    return pool\n",
    "\n",
    "\n",
    "\"\"\"\n",
    "DON'T MODIFY ANYTHING IN THIS CELL THAT IS BELOW THIS LINE\n",
    "\"\"\"\n",
    "tests.test_con_pool(conv2d_maxpool)"
   ]
  },
  {
   "cell_type": "markdown",
   "metadata": {},
   "source": [
    "### Flatten Layer\n",
    "Implement the `flatten` function to change the dimension of `x_tensor` from a 4-D tensor to a 2-D tensor.  The output should be the shape (*Batch Size*, *Flattened Image Size*). Shortcut option: you can use classes from the [TensorFlow Layers](https://www.tensorflow.org/api_docs/python/tf/layers) or [TensorFlow Layers (contrib)](https://www.tensorflow.org/api_guides/python/contrib.layers) packages for this layer. For more of a challenge, only use other TensorFlow packages."
   ]
  },
  {
   "cell_type": "code",
   "execution_count": 9,
   "metadata": {
    "collapsed": false
   },
   "outputs": [
    {
     "name": "stdout",
     "output_type": "stream",
     "text": [
      "Tests Passed\n"
     ]
    }
   ],
   "source": [
    "def flatten(x_tensor):\n",
    "    \"\"\"\n",
    "    Flatten x_tensor to (Batch Size, Flattened Image Size)\n",
    "    : x_tensor: A tensor of size (Batch Size, ...), where ... are the image dimensions.\n",
    "    : return: A tensor of size (Batch Size, Flattened Image Size).\n",
    "    \"\"\"\n",
    "    # TODO: Implement Function\n",
    "    num_features = x_tensor.get_shape()[1:4].num_elements()\n",
    "    return tf.reshape(x_tensor, [-1, num_features])\n",
    "\n",
    "\n",
    "\"\"\"\n",
    "DON'T MODIFY ANYTHING IN THIS CELL THAT IS BELOW THIS LINE\n",
    "\"\"\"\n",
    "tests.test_flatten(flatten)"
   ]
  },
  {
   "cell_type": "markdown",
   "metadata": {},
   "source": [
    "### Fully-Connected Layer\n",
    "Implement the `fully_conn` function to apply a fully connected layer to `x_tensor` with the shape (*Batch Size*, *num_outputs*). Shortcut option: you can use classes from the [TensorFlow Layers](https://www.tensorflow.org/api_docs/python/tf/layers) or [TensorFlow Layers (contrib)](https://www.tensorflow.org/api_guides/python/contrib.layers) packages for this layer. For more of a challenge, only use other TensorFlow packages."
   ]
  },
  {
   "cell_type": "code",
   "execution_count": 10,
   "metadata": {
    "collapsed": false
   },
   "outputs": [
    {
     "name": "stdout",
     "output_type": "stream",
     "text": [
      "Tests Passed\n"
     ]
    }
   ],
   "source": [
    "def fully_conn(x_tensor, num_outputs):\n",
    "    \"\"\"\n",
    "    Apply a fully connected layer to x_tensor using weight and bias\n",
    "    : x_tensor: A 2-D tensor where the first dimension is batch size.\n",
    "    : num_outputs: The number of output that the new tensor should be.\n",
    "    : return: A 2-D tensor where the second dimension is num_outputs.\n",
    "    \"\"\"\n",
    "    # TODO: Implement Function\n",
    "    num_inputs = x_tensor.get_shape()[1].value\n",
    "    W = tf.Variable(tf.truncated_normal([num_inputs, num_outputs], stddev=np.sqrt(1/num_outputs)))\n",
    "    b = tf.Variable(tf.truncated_normal([num_outputs]))\n",
    "    z = tf.add(tf.matmul(x_tensor, W), b)\n",
    "    return tf.nn.relu(z)\n",
    "\n",
    "\n",
    "\"\"\"\n",
    "DON'T MODIFY ANYTHING IN THIS CELL THAT IS BELOW THIS LINE\n",
    "\"\"\"\n",
    "tests.test_fully_conn(fully_conn)"
   ]
  },
  {
   "cell_type": "markdown",
   "metadata": {},
   "source": [
    "### Output Layer\n",
    "Implement the `output` function to apply a fully connected layer to `x_tensor` with the shape (*Batch Size*, *num_outputs*). Shortcut option: you can use classes from the [TensorFlow Layers](https://www.tensorflow.org/api_docs/python/tf/layers) or [TensorFlow Layers (contrib)](https://www.tensorflow.org/api_guides/python/contrib.layers) packages for this layer. For more of a challenge, only use other TensorFlow packages.\n",
    "\n",
    "**Note:** Activation, softmax, or cross entropy should **not** be applied to this."
   ]
  },
  {
   "cell_type": "code",
   "execution_count": 11,
   "metadata": {
    "collapsed": false
   },
   "outputs": [
    {
     "name": "stdout",
     "output_type": "stream",
     "text": [
      "Tests Passed\n"
     ]
    }
   ],
   "source": [
    "def output(x_tensor, num_outputs):\n",
    "    \"\"\"\n",
    "    Apply a output layer to x_tensor using weight and bias\n",
    "    : x_tensor: A 2-D tensor where the first dimension is batch size.\n",
    "    : num_outputs: The number of output that the new tensor should be.\n",
    "    : return: A 2-D tensor where the second dimension is num_outputs.\n",
    "    \"\"\"\n",
    "    # TODO: Implement Function\n",
    "    num_inputs = x_tensor.get_shape()[1].value\n",
    "    W = tf.Variable(tf.zeros([num_inputs, num_outputs]))\n",
    "    b = tf.Variable(tf.zeros([num_outputs]))\n",
    "    return tf.add(tf.matmul(x_tensor, W), b)\n",
    "\n",
    "\n",
    "\"\"\"\n",
    "DON'T MODIFY ANYTHING IN THIS CELL THAT IS BELOW THIS LINE\n",
    "\"\"\"\n",
    "tests.test_output(output)"
   ]
  },
  {
   "cell_type": "markdown",
   "metadata": {},
   "source": [
    "### Create Convolutional Model\n",
    "Implement the function `conv_net` to create a convolutional neural network model. The function takes in a batch of images, `x`, and outputs logits.  Use the layers you created above to create this model:\n",
    "\n",
    "* Apply 1, 2, or 3 Convolution and Max Pool layers\n",
    "* Apply a Flatten Layer\n",
    "* Apply 1, 2, or 3 Fully Connected Layers\n",
    "* Apply an Output Layer\n",
    "* Return the output\n",
    "* Apply [TensorFlow's Dropout](https://www.tensorflow.org/api_docs/python/tf/nn/dropout) to one or more layers in the model using `keep_prob`. "
   ]
  },
  {
   "cell_type": "code",
   "execution_count": 12,
   "metadata": {
    "collapsed": false
   },
   "outputs": [
    {
     "name": "stdout",
     "output_type": "stream",
     "text": [
      "Neural Network Built!\n"
     ]
    }
   ],
   "source": [
    "def conv_net(x, keep_prob):\n",
    "    \"\"\"\n",
    "    Create a convolutional neural network model\n",
    "    : x: Placeholder tensor that holds image data.\n",
    "    : keep_prob: Placeholder tensor that hold dropout keep probability.\n",
    "    : return: Tensor that represents logits\n",
    "    \"\"\"\n",
    "    # TODO: Apply 1, 2, or 3 Convolution and Max Pool layers\n",
    "    #    Play around with different number of outputs, kernel size and stride\n",
    "    # Function Definition from Above:\n",
    "    #    conv2d_maxpool(x_tensor, conv_num_outputs, conv_ksize, conv_strides, pool_ksize, pool_strides)\n",
    "    L0 = conv2d_maxpool(x, 48, conv_ksize=(6, 6), conv_strides=(1, 1), pool_ksize=(2, 2), pool_strides=(2, 2))\n",
    "    L1 = conv2d_maxpool(L0, 48, conv_ksize=(6, 6), conv_strides=(1, 1), pool_ksize=(2, 2), pool_strides=(2, 2))\n",
    "    \n",
    "    # TODO: Apply a Flatten Layer\n",
    "    # Function Definition from Above:\n",
    "    #   flatten(x_tensor)\n",
    "    flat = flatten(L1)\n",
    "    \n",
    "    # TODO: Apply 1, 2, or 3 Fully Connected Layers\n",
    "    #    Play around with different number of outputs\n",
    "    # Function Definition from Above:\n",
    "    #   fully_conn(x_tensor, num_outputs)\n",
    "    F0 = fully_conn(flat, 512)\n",
    "    full = tf.nn.dropout(F0, keep_prob=keep_prob)\n",
    "    \n",
    "    # TODO: Apply an Output Layer\n",
    "    #    Set this to the number of classes\n",
    "    # Function Definition from Above:\n",
    "    #   output(x_tensor, num_outputs)\n",
    "    a = output(full, 10)\n",
    "    \n",
    "    # TODO: return output\n",
    "    return a\n",
    "\n",
    "\n",
    "\"\"\"\n",
    "DON'T MODIFY ANYTHING IN THIS CELL THAT IS BELOW THIS LINE\n",
    "\"\"\"\n",
    "\n",
    "##############################\n",
    "## Build the Neural Network ##\n",
    "##############################\n",
    "\n",
    "# Remove previous weights, bias, inputs, etc..\n",
    "tf.reset_default_graph()\n",
    "\n",
    "# Inputs\n",
    "x = neural_net_image_input((32, 32, 3))\n",
    "y = neural_net_label_input(10)\n",
    "keep_prob = neural_net_keep_prob_input()\n",
    "\n",
    "# Model\n",
    "logits = conv_net(x, keep_prob)\n",
    "\n",
    "# Name logits Tensor, so that is can be loaded from disk after training\n",
    "logits = tf.identity(logits, name='logits')\n",
    "\n",
    "# Loss and Optimizer\n",
    "cost = tf.reduce_mean(tf.nn.softmax_cross_entropy_with_logits(logits=logits, labels=y))\n",
    "optimizer = tf.train.AdamOptimizer().minimize(cost)\n",
    "\n",
    "# Accuracy\n",
    "correct_pred = tf.equal(tf.argmax(logits, 1), tf.argmax(y, 1))\n",
    "accuracy = tf.reduce_mean(tf.cast(correct_pred, tf.float32), name='accuracy')\n",
    "\n",
    "tests.test_conv_net(conv_net)"
   ]
  },
  {
   "cell_type": "markdown",
   "metadata": {},
   "source": [
    "## Train the Neural Network\n",
    "### Single Optimization\n",
    "Implement the function `train_neural_network` to do a single optimization.  The optimization should use `optimizer` to optimize in `session` with a `feed_dict` of the following:\n",
    "* `x` for image input\n",
    "* `y` for labels\n",
    "* `keep_prob` for keep probability for dropout\n",
    "\n",
    "This function will be called for each batch, so `tf.global_variables_initializer()` has already been called.\n",
    "\n",
    "Note: Nothing needs to be returned. This function is only optimizing the neural network."
   ]
  },
  {
   "cell_type": "code",
   "execution_count": 13,
   "metadata": {
    "collapsed": false
   },
   "outputs": [
    {
     "name": "stdout",
     "output_type": "stream",
     "text": [
      "Tests Passed\n"
     ]
    }
   ],
   "source": [
    "def train_neural_network(session, optimizer, keep_probability, feature_batch, label_batch):\n",
    "    \"\"\"\n",
    "    Optimize the session on a batch of images and labels\n",
    "    : session: Current TensorFlow session\n",
    "    : optimizer: TensorFlow optimizer function\n",
    "    : keep_probability: keep probability\n",
    "    : feature_batch: Batch of Numpy image data\n",
    "    : label_batch: Batch of Numpy label data\n",
    "    \"\"\"\n",
    "    # TODO: Implement Function\n",
    "    feed_it = {x:feature_batch, y:label_batch, keep_prob:keep_probability}\n",
    "    session.run([optimizer], feed_dict=feed_it)\n",
    "\n",
    "\"\"\"\n",
    "DON'T MODIFY ANYTHING IN THIS CELL THAT IS BELOW THIS LINE\n",
    "\"\"\"\n",
    "tests.test_train_nn(train_neural_network)"
   ]
  },
  {
   "cell_type": "markdown",
   "metadata": {},
   "source": [
    "### Show Stats\n",
    "Implement the function `print_stats` to print loss and validation accuracy.  Use the global variables `valid_features` and `valid_labels` to calculate validation accuracy.  Use a keep probability of `1.0` to calculate the loss and validation accuracy."
   ]
  },
  {
   "cell_type": "code",
   "execution_count": 14,
   "metadata": {
    "collapsed": false
   },
   "outputs": [],
   "source": [
    "def print_stats(session, feature_batch, label_batch, cost, accuracy):\n",
    "    \"\"\"\n",
    "    Print information about loss and validation accuracy\n",
    "    : session: Current TensorFlow session\n",
    "    : feature_batch: Batch of Numpy image data\n",
    "    : label_batch: Batch of Numpy label data\n",
    "    : cost: TensorFlow cost function\n",
    "    : accuracy: TensorFlow accuracy function\n",
    "    \"\"\"\n",
    "    # TODO: Implement Function\n",
    "    feed_it = {x:valid_features, y:valid_labels, keep_prob:1.0}\n",
    "    C, acc = session.run([cost, accuracy], feed_dict=feed_it)\n",
    "    print(\"Validation - Cost: %.4f; Accuracy: %.2f%%\" % (C, acc*100))"
   ]
  },
  {
   "cell_type": "markdown",
   "metadata": {},
   "source": [
    "### Hyperparameters\n",
    "Tune the following parameters:\n",
    "* Set `epochs` to the number of iterations until the network stops learning or start overfitting\n",
    "* Set `batch_size` to the highest number that your machine has memory for.  Most people set them to common sizes of memory:\n",
    " * 64\n",
    " * 128\n",
    " * 256\n",
    " * ...\n",
    "* Set `keep_probability` to the probability of keeping a node using dropout"
   ]
  },
  {
   "cell_type": "code",
   "execution_count": 15,
   "metadata": {
    "collapsed": true
   },
   "outputs": [],
   "source": [
    "# TODO: Tune Parameters\n",
    "epochs = 65\n",
    "batch_size = 256\n",
    "keep_probability = 0.5"
   ]
  },
  {
   "cell_type": "markdown",
   "metadata": {},
   "source": [
    "### Train on a Single CIFAR-10 Batch\n",
    "Instead of training the neural network on all the CIFAR-10 batches of data, let's use a single batch. This should save time while you iterate on the model to get a better accuracy.  Once the final validation accuracy is 50% or greater, run the model on all the data in the next section."
   ]
  },
  {
   "cell_type": "code",
   "execution_count": 16,
   "metadata": {
    "collapsed": false,
    "scrolled": false
   },
   "outputs": [
    {
     "name": "stdout",
     "output_type": "stream",
     "text": [
      "Checking the Training on a Single Batch...\n",
      "Epoch  1, CIFAR-10 Batch 1:  Validation - Cost: 2.0838; Accuracy: 22.86%\n",
      "Epoch  2, CIFAR-10 Batch 1:  Validation - Cost: 1.8903; Accuracy: 30.42%\n",
      "Epoch  3, CIFAR-10 Batch 1:  Validation - Cost: 1.7446; Accuracy: 36.52%\n",
      "Epoch  4, CIFAR-10 Batch 1:  Validation - Cost: 1.6414; Accuracy: 41.34%\n",
      "Epoch  5, CIFAR-10 Batch 1:  Validation - Cost: 1.5602; Accuracy: 43.92%\n",
      "Epoch  6, CIFAR-10 Batch 1:  Validation - Cost: 1.5257; Accuracy: 44.44%\n",
      "Epoch  7, CIFAR-10 Batch 1:  Validation - Cost: 1.5153; Accuracy: 45.14%\n",
      "Epoch  8, CIFAR-10 Batch 1:  Validation - Cost: 1.4599; Accuracy: 47.16%\n",
      "Epoch  9, CIFAR-10 Batch 1:  Validation - Cost: 1.4517; Accuracy: 47.64%\n",
      "Epoch 10, CIFAR-10 Batch 1:  Validation - Cost: 1.4233; Accuracy: 49.16%\n",
      "Epoch 11, CIFAR-10 Batch 1:  Validation - Cost: 1.4023; Accuracy: 49.46%\n",
      "Epoch 12, CIFAR-10 Batch 1:  Validation - Cost: 1.3879; Accuracy: 49.82%\n",
      "Epoch 13, CIFAR-10 Batch 1:  Validation - Cost: 1.3995; Accuracy: 50.22%\n",
      "Epoch 14, CIFAR-10 Batch 1:  Validation - Cost: 1.3930; Accuracy: 50.28%\n",
      "Epoch 15, CIFAR-10 Batch 1:  Validation - Cost: 1.3964; Accuracy: 50.40%\n",
      "Epoch 16, CIFAR-10 Batch 1:  Validation - Cost: 1.3578; Accuracy: 51.60%\n",
      "Epoch 17, CIFAR-10 Batch 1:  Validation - Cost: 1.3466; Accuracy: 52.54%\n",
      "Epoch 18, CIFAR-10 Batch 1:  Validation - Cost: 1.3623; Accuracy: 51.88%\n",
      "Epoch 19, CIFAR-10 Batch 1:  Validation - Cost: 1.3503; Accuracy: 52.00%\n",
      "Epoch 20, CIFAR-10 Batch 1:  Validation - Cost: 1.4071; Accuracy: 50.94%\n",
      "Epoch 21, CIFAR-10 Batch 1:  Validation - Cost: 1.4068; Accuracy: 51.32%\n",
      "Epoch 22, CIFAR-10 Batch 1:  Validation - Cost: 1.3781; Accuracy: 52.50%\n",
      "Epoch 23, CIFAR-10 Batch 1:  Validation - Cost: 1.4776; Accuracy: 50.20%\n",
      "Epoch 24, CIFAR-10 Batch 1:  Validation - Cost: 1.5850; Accuracy: 48.36%\n",
      "Epoch 25, CIFAR-10 Batch 1:  Validation - Cost: 1.4295; Accuracy: 52.52%\n",
      "Epoch 26, CIFAR-10 Batch 1:  Validation - Cost: 1.4810; Accuracy: 52.38%\n",
      "Epoch 27, CIFAR-10 Batch 1:  Validation - Cost: 1.4349; Accuracy: 52.70%\n",
      "Epoch 28, CIFAR-10 Batch 1:  Validation - Cost: 1.4373; Accuracy: 53.76%\n",
      "Epoch 29, CIFAR-10 Batch 1:  Validation - Cost: 1.4580; Accuracy: 53.36%\n",
      "Epoch 30, CIFAR-10 Batch 1:  Validation - Cost: 1.5025; Accuracy: 53.26%\n",
      "Epoch 31, CIFAR-10 Batch 1:  Validation - Cost: 1.4917; Accuracy: 54.38%\n",
      "Epoch 32, CIFAR-10 Batch 1:  Validation - Cost: 1.5253; Accuracy: 54.14%\n",
      "Epoch 33, CIFAR-10 Batch 1:  Validation - Cost: 1.5482; Accuracy: 54.26%\n",
      "Epoch 34, CIFAR-10 Batch 1:  Validation - Cost: 1.5508; Accuracy: 54.80%\n",
      "Epoch 35, CIFAR-10 Batch 1:  Validation - Cost: 1.6077; Accuracy: 54.40%\n",
      "Epoch 36, CIFAR-10 Batch 1:  Validation - Cost: 1.5943; Accuracy: 54.36%\n",
      "Epoch 37, CIFAR-10 Batch 1:  Validation - Cost: 1.6159; Accuracy: 54.56%\n",
      "Epoch 38, CIFAR-10 Batch 1:  Validation - Cost: 1.6977; Accuracy: 54.04%\n",
      "Epoch 39, CIFAR-10 Batch 1:  Validation - Cost: 1.7335; Accuracy: 54.46%\n",
      "Epoch 40, CIFAR-10 Batch 1:  Validation - Cost: 1.7515; Accuracy: 54.28%\n",
      "Epoch 41, CIFAR-10 Batch 1:  Validation - Cost: 1.7748; Accuracy: 54.18%\n",
      "Epoch 42, CIFAR-10 Batch 1:  Validation - Cost: 1.7868; Accuracy: 53.20%\n",
      "Epoch 43, CIFAR-10 Batch 1:  Validation - Cost: 1.8433; Accuracy: 53.70%\n",
      "Epoch 44, CIFAR-10 Batch 1:  Validation - Cost: 1.8929; Accuracy: 52.52%\n",
      "Epoch 45, CIFAR-10 Batch 1:  Validation - Cost: 1.9052; Accuracy: 53.22%\n",
      "Epoch 46, CIFAR-10 Batch 1:  Validation - Cost: 1.8422; Accuracy: 53.98%\n",
      "Epoch 47, CIFAR-10 Batch 1:  Validation - Cost: 1.9526; Accuracy: 53.36%\n",
      "Epoch 48, CIFAR-10 Batch 1:  Validation - Cost: 1.9505; Accuracy: 53.80%\n",
      "Epoch 49, CIFAR-10 Batch 1:  Validation - Cost: 1.9880; Accuracy: 53.18%\n",
      "Epoch 50, CIFAR-10 Batch 1:  Validation - Cost: 1.9580; Accuracy: 53.08%\n",
      "Epoch 51, CIFAR-10 Batch 1:  Validation - Cost: 1.9570; Accuracy: 53.90%\n",
      "Epoch 52, CIFAR-10 Batch 1:  Validation - Cost: 2.0194; Accuracy: 52.80%\n",
      "Epoch 53, CIFAR-10 Batch 1:  Validation - Cost: 2.0555; Accuracy: 53.40%\n",
      "Epoch 54, CIFAR-10 Batch 1:  Validation - Cost: 2.1659; Accuracy: 53.26%\n",
      "Epoch 55, CIFAR-10 Batch 1:  Validation - Cost: 2.2199; Accuracy: 52.76%\n",
      "Epoch 56, CIFAR-10 Batch 1:  Validation - Cost: 2.1946; Accuracy: 53.72%\n",
      "Epoch 57, CIFAR-10 Batch 1:  Validation - Cost: 2.1987; Accuracy: 53.78%\n",
      "Epoch 58, CIFAR-10 Batch 1:  Validation - Cost: 2.2485; Accuracy: 53.96%\n",
      "Epoch 59, CIFAR-10 Batch 1:  Validation - Cost: 2.2489; Accuracy: 53.52%\n",
      "Epoch 60, CIFAR-10 Batch 1:  Validation - Cost: 2.2891; Accuracy: 53.50%\n",
      "Epoch 61, CIFAR-10 Batch 1:  Validation - Cost: 2.3670; Accuracy: 53.94%\n",
      "Epoch 62, CIFAR-10 Batch 1:  Validation - Cost: 2.4187; Accuracy: 52.86%\n",
      "Epoch 63, CIFAR-10 Batch 1:  Validation - Cost: 2.3447; Accuracy: 54.70%\n",
      "Epoch 64, CIFAR-10 Batch 1:  Validation - Cost: 2.4366; Accuracy: 54.26%\n",
      "Epoch 65, CIFAR-10 Batch 1:  Validation - Cost: 2.3878; Accuracy: 54.56%\n"
     ]
    }
   ],
   "source": [
    "\"\"\"\n",
    "DON'T MODIFY ANYTHING IN THIS CELL\n",
    "\"\"\"\n",
    "print('Checking the Training on a Single Batch...')\n",
    "with tf.Session() as sess:\n",
    "    # Initializing the variables\n",
    "    sess.run(tf.global_variables_initializer())\n",
    "    \n",
    "    # Training cycle\n",
    "    for epoch in range(epochs):\n",
    "        batch_i = 1\n",
    "        for batch_features, batch_labels in helper.load_preprocess_training_batch(batch_i, batch_size):\n",
    "            train_neural_network(sess, optimizer, keep_probability, batch_features, batch_labels)\n",
    "        print('Epoch {:>2}, CIFAR-10 Batch {}:  '.format(epoch + 1, batch_i), end='')\n",
    "        print_stats(sess, batch_features, batch_labels, cost, accuracy)"
   ]
  },
  {
   "cell_type": "markdown",
   "metadata": {},
   "source": [
    "### Fully Train the Model\n",
    "Now that you got a good accuracy with a single CIFAR-10 batch, try it with all five batches."
   ]
  },
  {
   "cell_type": "code",
   "execution_count": 17,
   "metadata": {
    "collapsed": false,
    "scrolled": false
   },
   "outputs": [
    {
     "name": "stdout",
     "output_type": "stream",
     "text": [
      "Training...\n",
      "Epoch  1, CIFAR-10 Batch 1:  Validation - Cost: 2.0532; Accuracy: 24.54%\n",
      "Epoch  1, CIFAR-10 Batch 2:  Validation - Cost: 1.8431; Accuracy: 32.40%\n",
      "Epoch  1, CIFAR-10 Batch 3:  Validation - Cost: 1.6932; Accuracy: 37.74%\n",
      "Epoch  1, CIFAR-10 Batch 4:  Validation - Cost: 1.6142; Accuracy: 41.14%\n",
      "Epoch  1, CIFAR-10 Batch 5:  Validation - Cost: 1.5310; Accuracy: 44.38%\n",
      "Epoch  2, CIFAR-10 Batch 1:  Validation - Cost: 1.5032; Accuracy: 45.70%\n",
      "Epoch  2, CIFAR-10 Batch 2:  Validation - Cost: 1.4815; Accuracy: 45.04%\n",
      "Epoch  2, CIFAR-10 Batch 3:  Validation - Cost: 1.4561; Accuracy: 47.54%\n",
      "Epoch  2, CIFAR-10 Batch 4:  Validation - Cost: 1.4483; Accuracy: 47.58%\n",
      "Epoch  2, CIFAR-10 Batch 5:  Validation - Cost: 1.3750; Accuracy: 49.72%\n",
      "Epoch  3, CIFAR-10 Batch 1:  Validation - Cost: 1.3616; Accuracy: 50.76%\n",
      "Epoch  3, CIFAR-10 Batch 2:  Validation - Cost: 1.3857; Accuracy: 49.32%\n",
      "Epoch  3, CIFAR-10 Batch 3:  Validation - Cost: 1.3311; Accuracy: 51.46%\n",
      "Epoch  3, CIFAR-10 Batch 4:  Validation - Cost: 1.3354; Accuracy: 52.02%\n",
      "Epoch  3, CIFAR-10 Batch 5:  Validation - Cost: 1.2808; Accuracy: 54.04%\n",
      "Epoch  4, CIFAR-10 Batch 1:  Validation - Cost: 1.2751; Accuracy: 53.70%\n",
      "Epoch  4, CIFAR-10 Batch 2:  Validation - Cost: 1.2974; Accuracy: 52.60%\n",
      "Epoch  4, CIFAR-10 Batch 3:  Validation - Cost: 1.2441; Accuracy: 55.08%\n",
      "Epoch  4, CIFAR-10 Batch 4:  Validation - Cost: 1.2355; Accuracy: 55.28%\n",
      "Epoch  4, CIFAR-10 Batch 5:  Validation - Cost: 1.2190; Accuracy: 55.42%\n",
      "Epoch  5, CIFAR-10 Batch 1:  Validation - Cost: 1.2117; Accuracy: 56.30%\n",
      "Epoch  5, CIFAR-10 Batch 2:  Validation - Cost: 1.2529; Accuracy: 53.98%\n",
      "Epoch  5, CIFAR-10 Batch 3:  Validation - Cost: 1.1722; Accuracy: 57.98%\n",
      "Epoch  5, CIFAR-10 Batch 4:  Validation - Cost: 1.1791; Accuracy: 57.38%\n",
      "Epoch  5, CIFAR-10 Batch 5:  Validation - Cost: 1.1578; Accuracy: 57.88%\n",
      "Epoch  6, CIFAR-10 Batch 1:  Validation - Cost: 1.1858; Accuracy: 57.52%\n",
      "Epoch  6, CIFAR-10 Batch 2:  Validation - Cost: 1.1630; Accuracy: 57.58%\n",
      "Epoch  6, CIFAR-10 Batch 3:  Validation - Cost: 1.1185; Accuracy: 59.60%\n",
      "Epoch  6, CIFAR-10 Batch 4:  Validation - Cost: 1.1251; Accuracy: 59.24%\n",
      "Epoch  6, CIFAR-10 Batch 5:  Validation - Cost: 1.1411; Accuracy: 59.58%\n",
      "Epoch  7, CIFAR-10 Batch 1:  Validation - Cost: 1.1129; Accuracy: 60.42%\n",
      "Epoch  7, CIFAR-10 Batch 2:  Validation - Cost: 1.1077; Accuracy: 60.52%\n",
      "Epoch  7, CIFAR-10 Batch 3:  Validation - Cost: 1.0861; Accuracy: 61.06%\n",
      "Epoch  7, CIFAR-10 Batch 4:  Validation - Cost: 1.0902; Accuracy: 61.30%\n",
      "Epoch  7, CIFAR-10 Batch 5:  Validation - Cost: 1.1119; Accuracy: 60.62%\n",
      "Epoch  8, CIFAR-10 Batch 1:  Validation - Cost: 1.1246; Accuracy: 60.30%\n",
      "Epoch  8, CIFAR-10 Batch 2:  Validation - Cost: 1.0726; Accuracy: 61.68%\n",
      "Epoch  8, CIFAR-10 Batch 3:  Validation - Cost: 1.0689; Accuracy: 61.92%\n",
      "Epoch  8, CIFAR-10 Batch 4:  Validation - Cost: 1.0798; Accuracy: 61.74%\n",
      "Epoch  8, CIFAR-10 Batch 5:  Validation - Cost: 1.0476; Accuracy: 62.16%\n",
      "Epoch  9, CIFAR-10 Batch 1:  Validation - Cost: 1.0692; Accuracy: 62.10%\n",
      "Epoch  9, CIFAR-10 Batch 2:  Validation - Cost: 1.0401; Accuracy: 63.26%\n",
      "Epoch  9, CIFAR-10 Batch 3:  Validation - Cost: 1.0366; Accuracy: 62.84%\n",
      "Epoch  9, CIFAR-10 Batch 4:  Validation - Cost: 1.0475; Accuracy: 62.40%\n",
      "Epoch  9, CIFAR-10 Batch 5:  Validation - Cost: 1.0350; Accuracy: 63.08%\n",
      "Epoch 10, CIFAR-10 Batch 1:  Validation - Cost: 1.0323; Accuracy: 63.58%\n",
      "Epoch 10, CIFAR-10 Batch 2:  Validation - Cost: 1.0363; Accuracy: 63.40%\n",
      "Epoch 10, CIFAR-10 Batch 3:  Validation - Cost: 1.0175; Accuracy: 63.50%\n",
      "Epoch 10, CIFAR-10 Batch 4:  Validation - Cost: 1.0560; Accuracy: 62.58%\n",
      "Epoch 10, CIFAR-10 Batch 5:  Validation - Cost: 1.0639; Accuracy: 61.80%\n",
      "Epoch 11, CIFAR-10 Batch 1:  Validation - Cost: 1.0225; Accuracy: 63.80%\n",
      "Epoch 11, CIFAR-10 Batch 2:  Validation - Cost: 0.9991; Accuracy: 64.82%\n",
      "Epoch 11, CIFAR-10 Batch 3:  Validation - Cost: 1.0193; Accuracy: 64.04%\n",
      "Epoch 11, CIFAR-10 Batch 4:  Validation - Cost: 1.0336; Accuracy: 64.04%\n",
      "Epoch 11, CIFAR-10 Batch 5:  Validation - Cost: 1.0145; Accuracy: 63.44%\n",
      "Epoch 12, CIFAR-10 Batch 1:  Validation - Cost: 1.0226; Accuracy: 64.56%\n",
      "Epoch 12, CIFAR-10 Batch 2:  Validation - Cost: 0.9921; Accuracy: 65.54%\n",
      "Epoch 12, CIFAR-10 Batch 3:  Validation - Cost: 1.0157; Accuracy: 64.98%\n",
      "Epoch 12, CIFAR-10 Batch 4:  Validation - Cost: 1.0010; Accuracy: 64.84%\n",
      "Epoch 12, CIFAR-10 Batch 5:  Validation - Cost: 1.0084; Accuracy: 64.72%\n",
      "Epoch 13, CIFAR-10 Batch 1:  Validation - Cost: 1.0131; Accuracy: 65.06%\n",
      "Epoch 13, CIFAR-10 Batch 2:  Validation - Cost: 1.0058; Accuracy: 64.70%\n",
      "Epoch 13, CIFAR-10 Batch 3:  Validation - Cost: 1.0399; Accuracy: 64.48%\n",
      "Epoch 13, CIFAR-10 Batch 4:  Validation - Cost: 0.9915; Accuracy: 65.68%\n",
      "Epoch 13, CIFAR-10 Batch 5:  Validation - Cost: 0.9833; Accuracy: 65.78%\n",
      "Epoch 14, CIFAR-10 Batch 1:  Validation - Cost: 1.0043; Accuracy: 65.46%\n",
      "Epoch 14, CIFAR-10 Batch 2:  Validation - Cost: 0.9868; Accuracy: 65.98%\n",
      "Epoch 14, CIFAR-10 Batch 3:  Validation - Cost: 1.0204; Accuracy: 65.34%\n",
      "Epoch 14, CIFAR-10 Batch 4:  Validation - Cost: 1.0092; Accuracy: 65.46%\n",
      "Epoch 14, CIFAR-10 Batch 5:  Validation - Cost: 0.9978; Accuracy: 66.46%\n",
      "Epoch 15, CIFAR-10 Batch 1:  Validation - Cost: 1.0141; Accuracy: 65.52%\n",
      "Epoch 15, CIFAR-10 Batch 2:  Validation - Cost: 1.0068; Accuracy: 65.62%\n",
      "Epoch 15, CIFAR-10 Batch 3:  Validation - Cost: 1.0338; Accuracy: 65.26%\n",
      "Epoch 15, CIFAR-10 Batch 4:  Validation - Cost: 0.9982; Accuracy: 66.28%\n",
      "Epoch 15, CIFAR-10 Batch 5:  Validation - Cost: 0.9993; Accuracy: 66.16%\n",
      "Epoch 16, CIFAR-10 Batch 1:  Validation - Cost: 1.0173; Accuracy: 65.10%\n",
      "Epoch 16, CIFAR-10 Batch 2:  Validation - Cost: 1.0226; Accuracy: 65.92%\n",
      "Epoch 16, CIFAR-10 Batch 3:  Validation - Cost: 1.0434; Accuracy: 66.10%\n",
      "Epoch 16, CIFAR-10 Batch 4:  Validation - Cost: 1.0039; Accuracy: 66.40%\n",
      "Epoch 16, CIFAR-10 Batch 5:  Validation - Cost: 1.0100; Accuracy: 66.18%\n",
      "Epoch 17, CIFAR-10 Batch 1:  Validation - Cost: 1.0357; Accuracy: 65.72%\n",
      "Epoch 17, CIFAR-10 Batch 2:  Validation - Cost: 1.0247; Accuracy: 65.58%\n",
      "Epoch 17, CIFAR-10 Batch 3:  Validation - Cost: 1.0184; Accuracy: 66.64%\n",
      "Epoch 17, CIFAR-10 Batch 4:  Validation - Cost: 0.9966; Accuracy: 66.16%\n",
      "Epoch 17, CIFAR-10 Batch 5:  Validation - Cost: 1.0161; Accuracy: 66.60%\n",
      "Epoch 18, CIFAR-10 Batch 1:  Validation - Cost: 1.0321; Accuracy: 66.06%\n",
      "Epoch 18, CIFAR-10 Batch 2:  Validation - Cost: 1.0523; Accuracy: 66.12%\n",
      "Epoch 18, CIFAR-10 Batch 3:  Validation - Cost: 1.0343; Accuracy: 66.04%\n",
      "Epoch 18, CIFAR-10 Batch 4:  Validation - Cost: 1.0190; Accuracy: 66.38%\n",
      "Epoch 18, CIFAR-10 Batch 5:  Validation - Cost: 1.0086; Accuracy: 66.22%\n",
      "Epoch 19, CIFAR-10 Batch 1:  Validation - Cost: 1.0446; Accuracy: 65.58%\n",
      "Epoch 19, CIFAR-10 Batch 2:  Validation - Cost: 1.0604; Accuracy: 65.98%\n",
      "Epoch 19, CIFAR-10 Batch 3:  Validation - Cost: 1.0323; Accuracy: 66.38%\n",
      "Epoch 19, CIFAR-10 Batch 4:  Validation - Cost: 1.0133; Accuracy: 66.44%\n",
      "Epoch 19, CIFAR-10 Batch 5:  Validation - Cost: 1.0491; Accuracy: 66.60%\n",
      "Epoch 20, CIFAR-10 Batch 1:  Validation - Cost: 1.0733; Accuracy: 65.40%\n",
      "Epoch 20, CIFAR-10 Batch 2:  Validation - Cost: 1.0991; Accuracy: 65.36%\n",
      "Epoch 20, CIFAR-10 Batch 3:  Validation - Cost: 1.0559; Accuracy: 66.20%\n",
      "Epoch 20, CIFAR-10 Batch 4:  Validation - Cost: 1.0352; Accuracy: 66.04%\n",
      "Epoch 20, CIFAR-10 Batch 5:  Validation - Cost: 1.0537; Accuracy: 66.50%\n",
      "Epoch 21, CIFAR-10 Batch 1:  Validation - Cost: 1.0911; Accuracy: 64.76%\n",
      "Epoch 21, CIFAR-10 Batch 2:  Validation - Cost: 1.1379; Accuracy: 64.92%\n",
      "Epoch 21, CIFAR-10 Batch 3:  Validation - Cost: 1.1394; Accuracy: 64.88%\n",
      "Epoch 21, CIFAR-10 Batch 4:  Validation - Cost: 1.0956; Accuracy: 65.74%\n",
      "Epoch 21, CIFAR-10 Batch 5:  Validation - Cost: 1.1007; Accuracy: 65.06%\n",
      "Epoch 22, CIFAR-10 Batch 1:  Validation - Cost: 1.0732; Accuracy: 65.70%\n",
      "Epoch 22, CIFAR-10 Batch 2:  Validation - Cost: 1.1186; Accuracy: 65.30%\n",
      "Epoch 22, CIFAR-10 Batch 3:  Validation - Cost: 1.1801; Accuracy: 64.92%\n",
      "Epoch 22, CIFAR-10 Batch 4:  Validation - Cost: 1.0588; Accuracy: 66.30%\n",
      "Epoch 22, CIFAR-10 Batch 5:  Validation - Cost: 1.0864; Accuracy: 66.62%\n",
      "Epoch 23, CIFAR-10 Batch 1:  Validation - Cost: 1.0759; Accuracy: 66.10%\n",
      "Epoch 23, CIFAR-10 Batch 2:  Validation - Cost: 1.1720; Accuracy: 65.12%\n",
      "Epoch 23, CIFAR-10 Batch 3:  Validation - Cost: 1.1129; Accuracy: 65.70%\n",
      "Epoch 23, CIFAR-10 Batch 4:  Validation - Cost: 1.0667; Accuracy: 67.04%\n",
      "Epoch 23, CIFAR-10 Batch 5:  Validation - Cost: 1.1407; Accuracy: 65.74%\n",
      "Epoch 24, CIFAR-10 Batch 1:  Validation - Cost: 1.1135; Accuracy: 66.32%\n",
      "Epoch 24, CIFAR-10 Batch 2:  Validation - Cost: 1.1365; Accuracy: 65.10%\n",
      "Epoch 24, CIFAR-10 Batch 3:  Validation - Cost: 1.0922; Accuracy: 66.22%\n",
      "Epoch 24, CIFAR-10 Batch 4:  Validation - Cost: 1.0825; Accuracy: 66.62%\n",
      "Epoch 24, CIFAR-10 Batch 5:  Validation - Cost: 1.1560; Accuracy: 66.20%\n",
      "Epoch 25, CIFAR-10 Batch 1:  Validation - Cost: 1.1342; Accuracy: 66.54%\n",
      "Epoch 25, CIFAR-10 Batch 2:  Validation - Cost: 1.1100; Accuracy: 65.90%\n",
      "Epoch 25, CIFAR-10 Batch 3:  Validation - Cost: 1.1265; Accuracy: 66.42%\n",
      "Epoch 25, CIFAR-10 Batch 4:  Validation - Cost: 1.1052; Accuracy: 66.68%\n",
      "Epoch 25, CIFAR-10 Batch 5:  Validation - Cost: 1.1402; Accuracy: 65.84%\n",
      "Epoch 26, CIFAR-10 Batch 1:  Validation - Cost: 1.1637; Accuracy: 66.18%\n",
      "Epoch 26, CIFAR-10 Batch 2:  Validation - Cost: 1.1270; Accuracy: 66.50%\n",
      "Epoch 26, CIFAR-10 Batch 3:  Validation - Cost: 1.1124; Accuracy: 66.86%\n",
      "Epoch 26, CIFAR-10 Batch 4:  Validation - Cost: 1.1538; Accuracy: 65.92%\n",
      "Epoch 26, CIFAR-10 Batch 5:  Validation - Cost: 1.1681; Accuracy: 65.84%\n",
      "Epoch 27, CIFAR-10 Batch 1:  Validation - Cost: 1.1443; Accuracy: 66.62%\n",
      "Epoch 27, CIFAR-10 Batch 2:  Validation - Cost: 1.1611; Accuracy: 66.52%\n",
      "Epoch 27, CIFAR-10 Batch 3:  Validation - Cost: 1.1523; Accuracy: 67.16%\n",
      "Epoch 27, CIFAR-10 Batch 4:  Validation - Cost: 1.1786; Accuracy: 65.74%\n",
      "Epoch 27, CIFAR-10 Batch 5:  Validation - Cost: 1.1296; Accuracy: 66.68%\n",
      "Epoch 28, CIFAR-10 Batch 1:  Validation - Cost: 1.1536; Accuracy: 66.72%\n",
      "Epoch 28, CIFAR-10 Batch 2:  Validation - Cost: 1.2002; Accuracy: 65.92%\n",
      "Epoch 28, CIFAR-10 Batch 3:  Validation - Cost: 1.1539; Accuracy: 66.46%\n",
      "Epoch 28, CIFAR-10 Batch 4:  Validation - Cost: 1.1820; Accuracy: 66.14%\n",
      "Epoch 28, CIFAR-10 Batch 5:  Validation - Cost: 1.1271; Accuracy: 67.10%\n",
      "Epoch 29, CIFAR-10 Batch 1:  Validation - Cost: 1.1880; Accuracy: 66.18%\n",
      "Epoch 29, CIFAR-10 Batch 2:  Validation - Cost: 1.2202; Accuracy: 65.78%\n",
      "Epoch 29, CIFAR-10 Batch 3:  Validation - Cost: 1.1646; Accuracy: 65.86%\n",
      "Epoch 29, CIFAR-10 Batch 4:  Validation - Cost: 1.1833; Accuracy: 66.02%\n",
      "Epoch 29, CIFAR-10 Batch 5:  Validation - Cost: 1.1953; Accuracy: 66.52%\n",
      "Epoch 30, CIFAR-10 Batch 1:  Validation - Cost: 1.2512; Accuracy: 65.22%\n",
      "Epoch 30, CIFAR-10 Batch 2:  Validation - Cost: 1.2742; Accuracy: 66.16%\n",
      "Epoch 30, CIFAR-10 Batch 3:  Validation - Cost: 1.1911; Accuracy: 66.14%\n",
      "Epoch 30, CIFAR-10 Batch 4:  Validation - Cost: 1.1996; Accuracy: 66.62%\n",
      "Epoch 30, CIFAR-10 Batch 5:  Validation - Cost: 1.1972; Accuracy: 66.12%\n",
      "Epoch 31, CIFAR-10 Batch 1:  Validation - Cost: 1.2682; Accuracy: 65.22%\n",
      "Epoch 31, CIFAR-10 Batch 2:  Validation - Cost: 1.2728; Accuracy: 65.66%\n",
      "Epoch 31, CIFAR-10 Batch 3:  Validation - Cost: 1.2213; Accuracy: 66.44%\n",
      "Epoch 31, CIFAR-10 Batch 4:  Validation - Cost: 1.2775; Accuracy: 65.36%\n",
      "Epoch 31, CIFAR-10 Batch 5:  Validation - Cost: 1.2298; Accuracy: 66.26%\n",
      "Epoch 32, CIFAR-10 Batch 1:  Validation - Cost: 1.2797; Accuracy: 65.28%\n",
      "Epoch 32, CIFAR-10 Batch 2:  Validation - Cost: 1.3041; Accuracy: 65.78%\n",
      "Epoch 32, CIFAR-10 Batch 3:  Validation - Cost: 1.2565; Accuracy: 66.04%\n",
      "Epoch 32, CIFAR-10 Batch 4:  Validation - Cost: 1.3143; Accuracy: 65.94%\n",
      "Epoch 32, CIFAR-10 Batch 5:  Validation - Cost: 1.2907; Accuracy: 65.96%\n",
      "Epoch 33, CIFAR-10 Batch 1:  Validation - Cost: 1.3731; Accuracy: 64.32%\n",
      "Epoch 33, CIFAR-10 Batch 2:  Validation - Cost: 1.2737; Accuracy: 65.84%\n",
      "Epoch 33, CIFAR-10 Batch 3:  Validation - Cost: 1.2953; Accuracy: 66.66%\n",
      "Epoch 33, CIFAR-10 Batch 4:  Validation - Cost: 1.3505; Accuracy: 65.36%\n",
      "Epoch 33, CIFAR-10 Batch 5:  Validation - Cost: 1.2856; Accuracy: 66.20%\n",
      "Epoch 34, CIFAR-10 Batch 1:  Validation - Cost: 1.2988; Accuracy: 65.38%\n",
      "Epoch 34, CIFAR-10 Batch 2:  Validation - Cost: 1.3428; Accuracy: 65.04%\n",
      "Epoch 34, CIFAR-10 Batch 3:  Validation - Cost: 1.2926; Accuracy: 66.30%\n",
      "Epoch 34, CIFAR-10 Batch 4:  Validation - Cost: 1.3728; Accuracy: 64.80%\n",
      "Epoch 34, CIFAR-10 Batch 5:  Validation - Cost: 1.3638; Accuracy: 66.28%\n",
      "Epoch 35, CIFAR-10 Batch 1:  Validation - Cost: 1.3069; Accuracy: 66.02%\n",
      "Epoch 35, CIFAR-10 Batch 2:  Validation - Cost: 1.3107; Accuracy: 66.28%\n",
      "Epoch 35, CIFAR-10 Batch 3:  Validation - Cost: 1.3323; Accuracy: 66.86%\n",
      "Epoch 35, CIFAR-10 Batch 4:  Validation - Cost: 1.3660; Accuracy: 66.44%\n",
      "Epoch 35, CIFAR-10 Batch 5:  Validation - Cost: 1.3454; Accuracy: 66.40%\n",
      "Epoch 36, CIFAR-10 Batch 1:  Validation - Cost: 1.3531; Accuracy: 66.28%\n",
      "Epoch 36, CIFAR-10 Batch 2:  Validation - Cost: 1.3446; Accuracy: 67.62%\n",
      "Epoch 36, CIFAR-10 Batch 3:  Validation - Cost: 1.4213; Accuracy: 66.02%\n",
      "Epoch 36, CIFAR-10 Batch 4:  Validation - Cost: 1.3419; Accuracy: 66.48%\n",
      "Epoch 36, CIFAR-10 Batch 5:  Validation - Cost: 1.3704; Accuracy: 66.30%\n",
      "Epoch 37, CIFAR-10 Batch 1:  Validation - Cost: 1.3617; Accuracy: 66.14%\n",
      "Epoch 37, CIFAR-10 Batch 2:  Validation - Cost: 1.3691; Accuracy: 66.74%\n",
      "Epoch 37, CIFAR-10 Batch 3:  Validation - Cost: 1.4533; Accuracy: 66.42%\n",
      "Epoch 37, CIFAR-10 Batch 4:  Validation - Cost: 1.3654; Accuracy: 66.94%\n",
      "Epoch 37, CIFAR-10 Batch 5:  Validation - Cost: 1.3831; Accuracy: 65.96%\n",
      "Epoch 38, CIFAR-10 Batch 1:  Validation - Cost: 1.4277; Accuracy: 66.10%\n",
      "Epoch 38, CIFAR-10 Batch 2:  Validation - Cost: 1.3409; Accuracy: 66.70%\n",
      "Epoch 38, CIFAR-10 Batch 3:  Validation - Cost: 1.4578; Accuracy: 66.28%\n",
      "Epoch 38, CIFAR-10 Batch 4:  Validation - Cost: 1.3405; Accuracy: 66.36%\n",
      "Epoch 38, CIFAR-10 Batch 5:  Validation - Cost: 1.3803; Accuracy: 66.70%\n",
      "Epoch 39, CIFAR-10 Batch 1:  Validation - Cost: 1.4855; Accuracy: 65.16%\n",
      "Epoch 39, CIFAR-10 Batch 2:  Validation - Cost: 1.3508; Accuracy: 66.98%\n",
      "Epoch 39, CIFAR-10 Batch 3:  Validation - Cost: 1.5431; Accuracy: 66.32%\n",
      "Epoch 39, CIFAR-10 Batch 4:  Validation - Cost: 1.3941; Accuracy: 66.26%\n",
      "Epoch 39, CIFAR-10 Batch 5:  Validation - Cost: 1.4048; Accuracy: 65.70%\n",
      "Epoch 40, CIFAR-10 Batch 1:  Validation - Cost: 1.4476; Accuracy: 66.40%\n",
      "Epoch 40, CIFAR-10 Batch 2:  Validation - Cost: 1.3707; Accuracy: 66.88%\n",
      "Epoch 40, CIFAR-10 Batch 3:  Validation - Cost: 1.5172; Accuracy: 66.82%\n",
      "Epoch 40, CIFAR-10 Batch 4:  Validation - Cost: 1.4349; Accuracy: 66.54%\n",
      "Epoch 40, CIFAR-10 Batch 5:  Validation - Cost: 1.4462; Accuracy: 65.80%\n",
      "Epoch 41, CIFAR-10 Batch 1:  Validation - Cost: 1.4901; Accuracy: 66.46%\n",
      "Epoch 41, CIFAR-10 Batch 2:  Validation - Cost: 1.3892; Accuracy: 67.08%\n",
      "Epoch 41, CIFAR-10 Batch 3:  Validation - Cost: 1.5683; Accuracy: 66.64%\n",
      "Epoch 41, CIFAR-10 Batch 4:  Validation - Cost: 1.5036; Accuracy: 65.62%\n",
      "Epoch 41, CIFAR-10 Batch 5:  Validation - Cost: 1.4807; Accuracy: 65.94%\n",
      "Epoch 42, CIFAR-10 Batch 1:  Validation - Cost: 1.4925; Accuracy: 66.30%\n",
      "Epoch 42, CIFAR-10 Batch 2:  Validation - Cost: 1.4460; Accuracy: 66.32%\n",
      "Epoch 42, CIFAR-10 Batch 3:  Validation - Cost: 1.5799; Accuracy: 66.08%\n",
      "Epoch 42, CIFAR-10 Batch 4:  Validation - Cost: 1.5325; Accuracy: 65.40%\n",
      "Epoch 42, CIFAR-10 Batch 5:  Validation - Cost: 1.5165; Accuracy: 65.28%\n",
      "Epoch 43, CIFAR-10 Batch 1:  Validation - Cost: 1.5194; Accuracy: 65.94%\n",
      "Epoch 43, CIFAR-10 Batch 2:  Validation - Cost: 1.4221; Accuracy: 66.60%\n",
      "Epoch 43, CIFAR-10 Batch 3:  Validation - Cost: 1.5861; Accuracy: 65.66%\n",
      "Epoch 43, CIFAR-10 Batch 4:  Validation - Cost: 1.5253; Accuracy: 66.04%\n",
      "Epoch 43, CIFAR-10 Batch 5:  Validation - Cost: 1.5143; Accuracy: 64.92%\n",
      "Epoch 44, CIFAR-10 Batch 1:  Validation - Cost: 1.5787; Accuracy: 66.16%\n",
      "Epoch 44, CIFAR-10 Batch 2:  Validation - Cost: 1.4802; Accuracy: 66.16%\n",
      "Epoch 44, CIFAR-10 Batch 3:  Validation - Cost: 1.5666; Accuracy: 65.94%\n",
      "Epoch 44, CIFAR-10 Batch 4:  Validation - Cost: 1.5388; Accuracy: 65.30%\n",
      "Epoch 44, CIFAR-10 Batch 5:  Validation - Cost: 1.5257; Accuracy: 64.84%\n",
      "Epoch 45, CIFAR-10 Batch 1:  Validation - Cost: 1.5900; Accuracy: 65.56%\n",
      "Epoch 45, CIFAR-10 Batch 2:  Validation - Cost: 1.4604; Accuracy: 66.34%\n",
      "Epoch 45, CIFAR-10 Batch 3:  Validation - Cost: 1.6319; Accuracy: 65.76%\n",
      "Epoch 45, CIFAR-10 Batch 4:  Validation - Cost: 1.6048; Accuracy: 66.06%\n",
      "Epoch 45, CIFAR-10 Batch 5:  Validation - Cost: 1.6021; Accuracy: 64.94%\n",
      "Epoch 46, CIFAR-10 Batch 1:  Validation - Cost: 1.6103; Accuracy: 65.36%\n",
      "Epoch 46, CIFAR-10 Batch 2:  Validation - Cost: 1.5193; Accuracy: 66.08%\n",
      "Epoch 46, CIFAR-10 Batch 3:  Validation - Cost: 1.5639; Accuracy: 66.16%\n",
      "Epoch 46, CIFAR-10 Batch 4:  Validation - Cost: 1.6889; Accuracy: 65.78%\n",
      "Epoch 46, CIFAR-10 Batch 5:  Validation - Cost: 1.6415; Accuracy: 65.50%\n",
      "Epoch 47, CIFAR-10 Batch 1:  Validation - Cost: 1.6361; Accuracy: 64.90%\n",
      "Epoch 47, CIFAR-10 Batch 2:  Validation - Cost: 1.5063; Accuracy: 66.34%\n",
      "Epoch 47, CIFAR-10 Batch 3:  Validation - Cost: 1.6054; Accuracy: 66.06%\n",
      "Epoch 47, CIFAR-10 Batch 4:  Validation - Cost: 1.6667; Accuracy: 66.46%\n",
      "Epoch 47, CIFAR-10 Batch 5:  Validation - Cost: 1.6435; Accuracy: 65.62%\n",
      "Epoch 48, CIFAR-10 Batch 1:  Validation - Cost: 1.6152; Accuracy: 66.12%\n",
      "Epoch 48, CIFAR-10 Batch 2:  Validation - Cost: 1.5480; Accuracy: 67.04%\n",
      "Epoch 48, CIFAR-10 Batch 3:  Validation - Cost: 1.5784; Accuracy: 66.38%\n",
      "Epoch 48, CIFAR-10 Batch 4:  Validation - Cost: 1.6590; Accuracy: 65.82%\n",
      "Epoch 48, CIFAR-10 Batch 5:  Validation - Cost: 1.6578; Accuracy: 65.52%\n",
      "Epoch 49, CIFAR-10 Batch 1:  Validation - Cost: 1.5844; Accuracy: 66.12%\n",
      "Epoch 49, CIFAR-10 Batch 2:  Validation - Cost: 1.5826; Accuracy: 66.38%\n",
      "Epoch 49, CIFAR-10 Batch 3:  Validation - Cost: 1.6874; Accuracy: 65.86%\n",
      "Epoch 49, CIFAR-10 Batch 4:  Validation - Cost: 1.7168; Accuracy: 66.46%\n",
      "Epoch 49, CIFAR-10 Batch 5:  Validation - Cost: 1.6902; Accuracy: 66.00%\n",
      "Epoch 50, CIFAR-10 Batch 1:  Validation - Cost: 1.6596; Accuracy: 65.04%\n",
      "Epoch 50, CIFAR-10 Batch 2:  Validation - Cost: 1.5939; Accuracy: 65.68%\n",
      "Epoch 50, CIFAR-10 Batch 3:  Validation - Cost: 1.6151; Accuracy: 66.62%\n",
      "Epoch 50, CIFAR-10 Batch 4:  Validation - Cost: 1.7228; Accuracy: 66.34%\n",
      "Epoch 50, CIFAR-10 Batch 5:  Validation - Cost: 1.6101; Accuracy: 65.60%\n",
      "Epoch 51, CIFAR-10 Batch 1:  Validation - Cost: 1.6734; Accuracy: 65.54%\n",
      "Epoch 51, CIFAR-10 Batch 2:  Validation - Cost: 1.5840; Accuracy: 65.74%\n",
      "Epoch 51, CIFAR-10 Batch 3:  Validation - Cost: 1.5941; Accuracy: 67.30%\n",
      "Epoch 51, CIFAR-10 Batch 4:  Validation - Cost: 1.7407; Accuracy: 66.34%\n",
      "Epoch 51, CIFAR-10 Batch 5:  Validation - Cost: 1.6309; Accuracy: 65.64%\n",
      "Epoch 52, CIFAR-10 Batch 1:  Validation - Cost: 1.7041; Accuracy: 66.22%\n",
      "Epoch 52, CIFAR-10 Batch 2:  Validation - Cost: 1.6364; Accuracy: 65.64%\n",
      "Epoch 52, CIFAR-10 Batch 3:  Validation - Cost: 1.6653; Accuracy: 66.80%\n",
      "Epoch 52, CIFAR-10 Batch 4:  Validation - Cost: 1.8075; Accuracy: 67.00%\n",
      "Epoch 52, CIFAR-10 Batch 5:  Validation - Cost: 1.7076; Accuracy: 66.14%\n",
      "Epoch 53, CIFAR-10 Batch 1:  Validation - Cost: 1.7479; Accuracy: 65.50%\n",
      "Epoch 53, CIFAR-10 Batch 2:  Validation - Cost: 1.6505; Accuracy: 65.78%\n",
      "Epoch 53, CIFAR-10 Batch 3:  Validation - Cost: 1.6622; Accuracy: 66.78%\n",
      "Epoch 53, CIFAR-10 Batch 4:  Validation - Cost: 1.8952; Accuracy: 66.04%\n",
      "Epoch 53, CIFAR-10 Batch 5:  Validation - Cost: 1.7091; Accuracy: 65.76%\n",
      "Epoch 54, CIFAR-10 Batch 1:  Validation - Cost: 1.7838; Accuracy: 65.54%\n",
      "Epoch 54, CIFAR-10 Batch 2:  Validation - Cost: 1.6206; Accuracy: 66.70%\n",
      "Epoch 54, CIFAR-10 Batch 3:  Validation - Cost: 1.6871; Accuracy: 65.82%\n",
      "Epoch 54, CIFAR-10 Batch 4:  Validation - Cost: 1.8651; Accuracy: 65.26%\n",
      "Epoch 54, CIFAR-10 Batch 5:  Validation - Cost: 1.7983; Accuracy: 66.30%\n",
      "Epoch 55, CIFAR-10 Batch 1:  Validation - Cost: 1.7676; Accuracy: 65.68%\n",
      "Epoch 55, CIFAR-10 Batch 2:  Validation - Cost: 1.7718; Accuracy: 65.78%\n",
      "Epoch 55, CIFAR-10 Batch 3:  Validation - Cost: 1.7869; Accuracy: 66.06%\n",
      "Epoch 55, CIFAR-10 Batch 4:  Validation - Cost: 1.9324; Accuracy: 65.46%\n",
      "Epoch 55, CIFAR-10 Batch 5:  Validation - Cost: 1.7450; Accuracy: 65.84%\n",
      "Epoch 56, CIFAR-10 Batch 1:  Validation - Cost: 1.6951; Accuracy: 66.10%\n",
      "Epoch 56, CIFAR-10 Batch 2:  Validation - Cost: 1.7172; Accuracy: 65.90%\n",
      "Epoch 56, CIFAR-10 Batch 3:  Validation - Cost: 1.7155; Accuracy: 66.74%\n",
      "Epoch 56, CIFAR-10 Batch 4:  Validation - Cost: 1.9145; Accuracy: 65.90%\n",
      "Epoch 56, CIFAR-10 Batch 5:  Validation - Cost: 1.7677; Accuracy: 65.62%\n",
      "Epoch 57, CIFAR-10 Batch 1:  Validation - Cost: 1.8379; Accuracy: 66.28%\n",
      "Epoch 57, CIFAR-10 Batch 2:  Validation - Cost: 1.6867; Accuracy: 65.98%\n",
      "Epoch 57, CIFAR-10 Batch 3:  Validation - Cost: 1.7544; Accuracy: 65.94%\n",
      "Epoch 57, CIFAR-10 Batch 4:  Validation - Cost: 1.9800; Accuracy: 66.38%\n",
      "Epoch 57, CIFAR-10 Batch 5:  Validation - Cost: 1.7109; Accuracy: 66.18%\n",
      "Epoch 58, CIFAR-10 Batch 1:  Validation - Cost: 1.7693; Accuracy: 66.00%\n",
      "Epoch 58, CIFAR-10 Batch 2:  Validation - Cost: 1.8535; Accuracy: 65.68%\n",
      "Epoch 58, CIFAR-10 Batch 3:  Validation - Cost: 1.6903; Accuracy: 66.62%\n",
      "Epoch 58, CIFAR-10 Batch 4:  Validation - Cost: 1.9319; Accuracy: 66.26%\n",
      "Epoch 58, CIFAR-10 Batch 5:  Validation - Cost: 1.8235; Accuracy: 65.98%\n",
      "Epoch 59, CIFAR-10 Batch 1:  Validation - Cost: 1.8533; Accuracy: 66.18%\n",
      "Epoch 59, CIFAR-10 Batch 2:  Validation - Cost: 1.7236; Accuracy: 66.32%\n",
      "Epoch 59, CIFAR-10 Batch 3:  Validation - Cost: 1.7346; Accuracy: 66.04%\n",
      "Epoch 59, CIFAR-10 Batch 4:  Validation - Cost: 1.9606; Accuracy: 66.48%\n",
      "Epoch 59, CIFAR-10 Batch 5:  Validation - Cost: 1.8198; Accuracy: 65.66%\n",
      "Epoch 60, CIFAR-10 Batch 1:  Validation - Cost: 1.8092; Accuracy: 66.00%\n",
      "Epoch 60, CIFAR-10 Batch 2:  Validation - Cost: 1.6782; Accuracy: 66.54%\n",
      "Epoch 60, CIFAR-10 Batch 3:  Validation - Cost: 1.8092; Accuracy: 66.66%\n",
      "Epoch 60, CIFAR-10 Batch 4:  Validation - Cost: 1.8623; Accuracy: 67.06%\n",
      "Epoch 60, CIFAR-10 Batch 5:  Validation - Cost: 1.8504; Accuracy: 66.16%\n",
      "Epoch 61, CIFAR-10 Batch 1:  Validation - Cost: 1.8335; Accuracy: 66.30%\n",
      "Epoch 61, CIFAR-10 Batch 2:  Validation - Cost: 1.7799; Accuracy: 65.74%\n",
      "Epoch 61, CIFAR-10 Batch 3:  Validation - Cost: 1.7741; Accuracy: 65.94%\n",
      "Epoch 61, CIFAR-10 Batch 4:  Validation - Cost: 1.7659; Accuracy: 67.04%\n",
      "Epoch 61, CIFAR-10 Batch 5:  Validation - Cost: 1.8806; Accuracy: 65.60%\n",
      "Epoch 62, CIFAR-10 Batch 1:  Validation - Cost: 1.8994; Accuracy: 66.48%\n",
      "Epoch 62, CIFAR-10 Batch 2:  Validation - Cost: 1.8031; Accuracy: 66.12%\n",
      "Epoch 62, CIFAR-10 Batch 3:  Validation - Cost: 1.7194; Accuracy: 67.30%\n",
      "Epoch 62, CIFAR-10 Batch 4:  Validation - Cost: 2.0140; Accuracy: 66.66%\n",
      "Epoch 62, CIFAR-10 Batch 5:  Validation - Cost: 1.8880; Accuracy: 66.14%\n",
      "Epoch 63, CIFAR-10 Batch 1:  Validation - Cost: 1.9218; Accuracy: 66.64%\n",
      "Epoch 63, CIFAR-10 Batch 2:  Validation - Cost: 1.8658; Accuracy: 66.84%\n",
      "Epoch 63, CIFAR-10 Batch 3:  Validation - Cost: 1.7763; Accuracy: 67.18%\n",
      "Epoch 63, CIFAR-10 Batch 4:  Validation - Cost: 1.9113; Accuracy: 67.16%\n",
      "Epoch 63, CIFAR-10 Batch 5:  Validation - Cost: 1.8535; Accuracy: 66.42%\n",
      "Epoch 64, CIFAR-10 Batch 1:  Validation - Cost: 1.9240; Accuracy: 66.66%\n",
      "Epoch 64, CIFAR-10 Batch 2:  Validation - Cost: 1.8927; Accuracy: 65.52%\n",
      "Epoch 64, CIFAR-10 Batch 3:  Validation - Cost: 1.8129; Accuracy: 66.76%\n",
      "Epoch 64, CIFAR-10 Batch 4:  Validation - Cost: 1.9792; Accuracy: 66.80%\n",
      "Epoch 64, CIFAR-10 Batch 5:  Validation - Cost: 1.8931; Accuracy: 65.92%\n",
      "Epoch 65, CIFAR-10 Batch 1:  Validation - Cost: 1.9234; Accuracy: 66.74%\n",
      "Epoch 65, CIFAR-10 Batch 2:  Validation - Cost: 1.8418; Accuracy: 65.74%\n",
      "Epoch 65, CIFAR-10 Batch 3:  Validation - Cost: 1.7976; Accuracy: 66.30%\n",
      "Epoch 65, CIFAR-10 Batch 4:  Validation - Cost: 1.9901; Accuracy: 67.06%\n",
      "Epoch 65, CIFAR-10 Batch 5:  Validation - Cost: 1.8647; Accuracy: 65.90%\n"
     ]
    }
   ],
   "source": [
    "\"\"\"\n",
    "DON'T MODIFY ANYTHING IN THIS CELL\n",
    "\"\"\"\n",
    "save_model_path = './image_classification'\n",
    "\n",
    "print('Training...')\n",
    "with tf.Session() as sess:\n",
    "    # Initializing the variables\n",
    "    sess.run(tf.global_variables_initializer())\n",
    "    \n",
    "    # Training cycle\n",
    "    for epoch in range(epochs):\n",
    "        # Loop over all batches\n",
    "        n_batches = 5\n",
    "        for batch_i in range(1, n_batches + 1):\n",
    "            for batch_features, batch_labels in helper.load_preprocess_training_batch(batch_i, batch_size):\n",
    "                train_neural_network(sess, optimizer, keep_probability, batch_features, batch_labels)\n",
    "            print('Epoch {:>2}, CIFAR-10 Batch {}:  '.format(epoch + 1, batch_i), end='')\n",
    "            print_stats(sess, batch_features, batch_labels, cost, accuracy)\n",
    "            \n",
    "    # Save Model\n",
    "    saver = tf.train.Saver()\n",
    "    save_path = saver.save(sess, save_model_path)"
   ]
  },
  {
   "cell_type": "markdown",
   "metadata": {},
   "source": [
    "# Checkpoint\n",
    "The model has been saved to disk.\n",
    "## Test Model\n",
    "Test your model against the test dataset.  This will be your final accuracy. You should have an accuracy greater than 50%. If you don't, keep tweaking the model architecture and parameters."
   ]
  },
  {
   "cell_type": "code",
   "execution_count": 18,
   "metadata": {
    "collapsed": false
   },
   "outputs": [
    {
     "name": "stdout",
     "output_type": "stream",
     "text": [
      "Testing Accuracy: 0.6580078125\n",
      "\n"
     ]
    },
    {
     "data": {
      "image/png": "[encoded data removed]",
      "text/plain": [
       "<matplotlib.figure.Figure at 0x7f832e3a2550>"
      ]
     },
     "metadata": {
      "image/png": {
       "height": 319,
       "width": 355
      }
     },
     "output_type": "display_data"
    }
   ],
   "source": [
    "\"\"\"\n",
    "DON'T MODIFY ANYTHING IN THIS CELL\n",
    "\"\"\"\n",
    "%matplotlib inline\n",
    "%config InlineBackend.figure_format = 'retina'\n",
    "\n",
    "import tensorflow as tf\n",
    "import pickle\n",
    "import helper\n",
    "import random\n",
    "\n",
    "# Set batch size if not already set\n",
    "try:\n",
    "    if batch_size:\n",
    "        pass\n",
    "except NameError:\n",
    "    batch_size = 64\n",
    "\n",
    "save_model_path = './image_classification'\n",
    "n_samples = 4\n",
    "top_n_predictions = 3\n",
    "\n",
    "def test_model():\n",
    "    \"\"\"\n",
    "    Test the saved model against the test dataset\n",
    "    \"\"\"\n",
    "\n",
    "    test_features, test_labels = pickle.load(open('preprocess_training.p', mode='rb'))\n",
    "    loaded_graph = tf.Graph()\n",
    "\n",
    "    with tf.Session(graph=loaded_graph) as sess:\n",
    "        # Load model\n",
    "        loader = tf.train.import_meta_graph(save_model_path + '.meta')\n",
    "        loader.restore(sess, save_model_path)\n",
    "\n",
    "        # Get Tensors from loaded model\n",
    "        loaded_x = loaded_graph.get_tensor_by_name('x:0')\n",
    "        loaded_y = loaded_graph.get_tensor_by_name('y:0')\n",
    "        loaded_keep_prob = loaded_graph.get_tensor_by_name('keep_prob:0')\n",
    "        loaded_logits = loaded_graph.get_tensor_by_name('logits:0')\n",
    "        loaded_acc = loaded_graph.get_tensor_by_name('accuracy:0')\n",
    "        \n",
    "        # Get accuracy in batches for memory limitations\n",
    "        test_batch_acc_total = 0\n",
    "        test_batch_count = 0\n",
    "        \n",
    "        for train_feature_batch, train_label_batch in helper.batch_features_labels(test_features, test_labels, batch_size):\n",
    "            test_batch_acc_total += sess.run(\n",
    "                loaded_acc,\n",
    "                feed_dict={loaded_x: train_feature_batch, loaded_y: train_label_batch, loaded_keep_prob: 1.0})\n",
    "            test_batch_count += 1\n",
    "\n",
    "        print('Testing Accuracy: {}\\n'.format(test_batch_acc_total/test_batch_count))\n",
    "\n",
    "        # Print Random Samples\n",
    "        random_test_features, random_test_labels = tuple(zip(*random.sample(list(zip(test_features, test_labels)), n_samples)))\n",
    "        random_test_predictions = sess.run(\n",
    "            tf.nn.top_k(tf.nn.softmax(loaded_logits), top_n_predictions),\n",
    "            feed_dict={loaded_x: random_test_features, loaded_y: random_test_labels, loaded_keep_prob: 1.0})\n",
    "        helper.display_image_predictions(random_test_features, random_test_labels, random_test_predictions)\n",
    "\n",
    "\n",
    "test_model()"
   ]
  },
  {
   "cell_type": "markdown",
   "metadata": {},
   "source": [
    "## Why 50-80% Accuracy?\n",
    "You might be wondering why you can't get an accuracy any higher. First things first, 50% isn't bad for a simple CNN.  Pure guessing would get you 10% accuracy. However, you might notice people are getting scores [well above 80%](http://rodrigob.github.io/are_we_there_yet/build/classification_datasets_results.html#43494641522d3130).  That's because we haven't taught you all there is to know about neural networks. We still need to cover a few more techniques.\n",
    "## Submitting This Project\n",
    "When submitting this project, make sure to run all the cells before saving the notebook.  Save the notebook file as \"dlnd_image_classification.ipynb\" and save it as a HTML file under \"File\" -> \"Download as\".  Include the \"helper.py\" and \"problem_unittests.py\" files in your submission."
   ]
  }
 ],
 "metadata": {
  "anaconda-cloud": {},
  "kernelspec": {
   "display_name": "Python 3",
   "language": "python",
   "name": "python3"
  },
  "language_info": {
   "codemirror_mode": {
    "name": "ipython",
    "version": 3
   },
   "file_extension": ".py",
   "mimetype": "text/x-python",
   "name": "python",
   "nbconvert_exporter": "python",
   "pygments_lexer": "ipython3",
   "version": "3.5.2"
  }
 },
 "nbformat": 4,
 "nbformat_minor": 0
}
